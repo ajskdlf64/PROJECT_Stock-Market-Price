{
 "cells": [
  {
   "cell_type": "markdown",
   "metadata": {},
   "source": [
    "# **Stock Market Indicator**"
   ]
  },
  {
   "cell_type": "markdown",
   "metadata": {},
   "source": [
    "## **OBV**"
   ]
  },
  {
   "cell_type": "markdown",
   "metadata": {},
   "source": [
    " - On Balance Volume\n",
    " <br><br>\n",
    " - 거래량 지표\n",
    " <br><br>\n",
    " - 주식의 매집활동과 분산활동에 관한 정보를 분석하는데 사용\n",
    "<br><br>\n",
    " - 특히, 주가가 정체되어 있을 때 거래량 움직임으로 향후 주가의 향방을 예측하는 기술적 지표의 하나이다.\n",
    " <br><br>\n",
    " $OBV = OBV_{prev} + \\begin{cases}\n",
    " & volume\\;\\;\\;\\;\\;\\;\\; \\text{ if } close > close_{prev} \\\\ \n",
    " & 0\\;\\;\\;\\;\\;\\;\\; \\;\\;\\;\\;\\;\\;\\;\\;\\;\\; \\text{ if } close = close_{prev} \\\\ \n",
    " & -volume\\;\\;\\;\\;\\;\\;\\; \\text{ if } close < close_{prev} \n",
    "\\end{cases}$"
   ]
  },
  {
   "cell_type": "markdown",
   "metadata": {},
   "source": [
    "## **VR**"
   ]
  },
  {
   "cell_type": "markdown",
   "metadata": {},
   "source": [
    " - Volume Ratio\n",
    "<br><br>\n",
    " - 단순누적치로 계산하는 OBA의 결점을 보완하기 위해 개발된 거래량 지표\n",
    "<br><br>\n",
    " - VR은 통상 최근 20여일간의 주가 상승일의 거래량 합계를 주가 하락일의 거래량 합계로 나눈 것이다.\n",
    "<br><br>\n",
    " - 주가의 변동이 없는 날의 거래량은 상승일과 하락일에 반씩 나누어 분배\n",
    "<br><br>\n",
    " - 따라서, VR이 200%라면 대체로 주가 상승시의 거래량이 주가 하락시 거래량의 2배라는 것을 나타낸다."
   ]
  },
  {
   "cell_type": "markdown",
   "metadata": {},
   "source": [
    "## **Stochastic Oscillator**"
   ]
  },
  {
   "cell_type": "markdown",
   "metadata": {},
   "source": [
    " - 스토캐스틱 기법은 시장가격이 상승추세를 나타내고 있을 때에는 매일매일 종가가격이 최근의 시장가격변동폭 중 최고점 부근에서 형성되는 경향이 높고, 반대로 시장가격이 하락추세를 나타낼 때에는 매일매일의 종가가격은 최근의 시장가격변동폭 중 최저점 부근에서 형성되는 경향이 높다고 볼 수 있다.\n",
    "<br><br>\n",
    " - 스토캐스틱은 %K선과 %D선으로 구성되는데 %K선은 시장가격의 최근 변동폭과 최근에 형성되는 종가와의 관계를 구하려는 것으로 %K가 20%이하로 하락했다가 다시 20%를 상향돌파 할 때 매수하고 %K가 80%이상 상승 한 후 다시 80%를 하향돌파 할 때 매도한다. %K가 %D를 상향돌파 하면 매수하고 %K가 %D를 하향돌파 하면 매도한다.\n",
    "<br><br>\n",
    "$$ \\%K = {{현재 주가 - N기간 중 최저가} \\over {N기간 중 최고가 - N기간 중 최저가}} \\times {100} $$\n",
    "<br><br>\n",
    "$$ \\%D = \\%K의 이동평균$$"
   ]
  },
  {
   "cell_type": "markdown",
   "metadata": {},
   "source": [
    "## **ADL**"
   ]
  },
  {
   "cell_type": "markdown",
   "metadata": {},
   "source": [
    " - 등락선은 시장에서 거래되는 모든 주식에 대하여 상승주식수와 하락주식수의 차이를 누적한 것이다.이 등락선의 이용은 대체로 다우지수와 같은 작은표본의 주가지수와 함께 사용한다.주가지수가 오르고 등락선이 하향이라면 주식을 매각하여야 한다는 뜻이고 반대가 되면 매입하여야 한다. 이는 등락선이 주가지수의 선행지표 이기 때문에 작은 표본으로 계산된 주가지수 보다는 전체를 대상으로 한 등락선이 시장을 더욱 잘 반영할 수 있다는 의미이다.\n",
    " <br><br>\n",
    " - 등락선의 한계점으로는 전반적으로 장기적인 모양이 하락하는 형태로 나타나는데,등락선산출시 보합종목은 고려하지 않았기 때문에 정확한 선행지표의 역할을 독자적으로 하지 못하고 항상 종합주가지수와 비교분석하여야 하는 번거로움이 있다."
   ]
  },
  {
   "cell_type": "markdown",
   "metadata": {},
   "source": [
    "## **ADR**"
   ]
  },
  {
   "cell_type": "markdown",
   "metadata": {},
   "source": [
    " - 등락선은 약세시장의 바닥지표로는 완전한 것이 되지 못한다는 약점이 있으므로 보조지표인 등락비율(ADR)을 병용하는 것이 바람직하다. 등락비율은 일정기간 동안 등락종목비율에 의하여 시장기조를 분석하고자 하는 기술적 지표로,지수와 비교하여 시세가 어느 정도인가를 알고자 하는 것이며 단순이동평균선을 산출할 때와 같은 개념에 의해서 도출된다.\n",
    "<br><br>\n",
    " - 즉,등락주선이 시세의 상승국면에서 투자대상이 집중화되는 경향과 함께 권리락,배당락 등을 반영하지 않는 결점을 보유하고 있기 때문에 등락종목의 누계보다 비율을 도입함으로써 보다 합리적으로 분석하려고 한 것이다.\n",
    "<br><br> \n",
    "$$등락비율 = {{분석대상기간 동안의 상승종목수} \\over {분석대상기간 동안의 하락종목수}} \\times 100$$\n",
    "<br><br> \n",
    " - ADR은 대개 100%를 기준으로 해서 75%이하이면 안전지대로 매입시점으로 판단하고,125%이상이면 경계지대로 매도시점으로 판단한다."
   ]
  },
  {
   "cell_type": "markdown",
   "metadata": {},
   "source": [
    "## **투자심리선**"
   ]
  },
  {
   "cell_type": "markdown",
   "metadata": {},
   "source": [
    " - 투자자들의 투자심리를 일정기간동안 파악하여 과열상태인지 침체상태인지를 식별하고자 하는 기법이다. 최근 10일 동안의 주가상승일수만 누계하여 이를 백분비로 나타내며,이 비율을 선으로 연결한 것이 투자심리선이다.\n",
    "<br><br> \n",
    "$$투자심리선 = {{10일동안 주가상승일수} \\over {10}} \\times 100$$\n",
    "<br><br> \n",
    " - 투자심리선의 해석은 다음과 같다. 50%를 중심으로 75% 이상이면 과열상태로 경계지대이며, 25%이하이면 침체상태로 안전지대에 속하고,25~75% 사이는 중립지대이다.따라서 이 선에 따라 투자전략을 세운다면 75% 이상일 때 매수하고, 25% 이하일 때 주식을 매입하는 전략이 바람직하다."
   ]
  },
  {
   "cell_type": "markdown",
   "metadata": {},
   "source": [
    "## **RSI**"
   ]
  },
  {
   "cell_type": "markdown",
   "metadata": {},
   "source": [
    " - 상대적 강도란 강세시장이나 약세시장에서 어떤 주식의 가격이 시장전체의 움직임이나 다른 주식의 가격에 비하여 상대적으로 민감하게 변동하는 정도를 말한다.상대적 강도가 높은 주식은 강세시장에서는 다른 주식이나 시장 전체보다 빠른 속도로 상승하고,약세시장에서는 보다 빠른 속도로 하락한다.\n",
    "<br><br>\n",
    " - 상대적 강도를 측정하는 한 방법은 일정기간의 특정 주식의 주가변동률을 동종산업지수의 변동률로 나눈 것과 시장전체지수의 주가변동률로 나눈 것을 서로 비교하는 것이다.\n",
    "<br><br> \n",
    "$$R.S.I = {{14일간 상승폭 합계} \\over {14일간 상승폭 합계 + 14일간 하락폭 합계}} \\times 100$$\n",
    "<br><br> \n",
    " - 이 상대적 강도지수의 값이 70%을 상회하면 과열로 판단하여 매도하고 30%을 하회하면 침체로 판단하여 매수한다. "
   ]
  },
  {
   "cell_type": "markdown",
   "metadata": {},
   "source": [
    "## **Bollinger Bands**"
   ]
  },
  {
   "cell_type": "markdown",
   "metadata": {},
   "source": [
    " - 볼린저 밴드(Bollinger Bands)는 1980년대 존 볼린저가 개발하고 2011년 상표권 취득한 주가 기술적 분석 도구이다. 트레이딩 밴드 개념에서 발전된 볼린저 밴드와 상대지표 그리고 대역폭은 이전 거래와의 상대적 가격의 높음과 낮음을 판단하는 데 사용된다. 볼린저 밴드는 켈트너 채널과 비슷한 변동성 지표이다. 볼린저 밴드는 주가가 이동평균선 중심으로 표준편차 범위 안에서 움직인다는 전제로 개발되었다.\n",
    " <br><br>\n",
    " - 볼린저 밴드는 다음과 같이 구성된다.\n",
    "  + N기간 동안의 이동평균(MA)\n",
    "  + 이동평균 위의 K배 표준편차 상위 밴드\n",
    "  + 이동평균 아래의 K배 표준편차 하위 밴드\n",
    " <br><br>\n",
    " - 일반적으로 N과 K의 값은 20과 2이다. 평균값의 기본 선택의 단순 이동 평균이지만, 필요에 따라 다른 종류의 평균값을 쓸 수 있다. 지수 이동 평균(Exponential moving averages)은 일반적인 대안이다. 대개 중간 밴드와 표준 편차의 계산을 위해 같은 기간을 사용한다."
   ]
  },
  {
   "cell_type": "markdown",
   "metadata": {},
   "source": [
    "## **MA**"
   ]
  },
  {
   "cell_type": "markdown",
   "metadata": {},
   "source": [
    " - 단순 가격 데이터를 기반으로 종가의 이동평균과 거래량의 이동평균을 각각 5일/10일/20일/60일/120일로 구분하여 추가하였다. 이동 평균(moving average)이란 일정 기간 동안의 주가 평균을 구한 것으로 주가의 추세를 요약하기 위한 피쳐이다.\n",
    " <br><br>\n",
    " - 종가의 이동 평균은 MA로 표기하며 거래량(volume)의 이동평균은 VMA로 표기한다. 예로서, t 거래일에서의 종목 s의 종가는 $close price^{s}_t$로 표현하며 종가 5일 이동평균은 $ MA5^{s}_t = {1\\over5}\\sum_{k=0}^{4}close price^{s}_{t-k}$로 계산할 수있다.\n",
    " <br><br>\n",
    " - 마찬가지로 t 거래일의 종목 s의 거래량 5일 이동평균은 $ VMA5^{s}_t = {1\\over5}\\sum_{k=0}^{4}volume price^{s}_{t-k}$와 같이 계산할 수 있고, $volume price^{s}_t$은 t 거래일의 거래량이다.\n",
    " <br><br>\n",
    " - Python Code\n",
    "```python\n",
    "# Calculating the short-window simple moving average\n",
    "short_rolling = data.rolling(window=20).mean()\n",
    "short_rolling.head(20)\n",
    "```"
   ]
  },
  {
   "cell_type": "markdown",
   "metadata": {},
   "source": [
    "## **EMA**"
   ]
  },
  {
   "cell_type": "markdown",
   "metadata": {},
   "source": [
    " - Exponential Moving Average\n",
    " <br><br>\n",
    " - 최신 데이터에 더 높은 가중치를 부여하여 오래된 값의 가중치를 낮추는 방법\n",
    " <br><br>\n",
    " - $EMA_1 = data_1$\n",
    " <br><br>\n",
    " - $EMA_t = \\alpha \\times data_t + (1-\\alpha) \\times EMA_{t-1} $\n",
    "  <br><br>\n",
    " - $\\alpha =  {2 \\over {n+1}} $\n",
    "  <br><br>\n",
    " - Python Code\n",
    "```python\n",
    "# Using Pandas to calculate a 20-days span EMA. adjust=False specifies that we are interested in the recursive calculation mode.\n",
    "ema_short = data.ewm(span=20, adjust=False).mean()\n",
    "fig, ax = plt.subplots(figsize=(15,9))\n",
    "ax.plot(data.loc[start_date:end_date, :].index, data.loc[start_date:end_date, 'MSFT'], label='Price')\n",
    "ax.plot(ema_short.loc[start_date:end_date, :].index, ema_short.loc[start_date:end_date, 'MSFT'], label = 'Span 20-days EMA')\n",
    "ax.plot(short_rolling.loc[start_date:end_date, :].index, short_rolling.loc[start_date:end_date, 'MSFT'], label = '20-days SMA')\n",
    "ax.legend(loc='best')\n",
    "ax.set_ylabel('Price in $')\n",
    "ax.xaxis.set_major_formatter(my_year_month_fmt)\n",
    "```"
   ]
  }
 ],
 "metadata": {
  "kernelspec": {
   "display_name": "Python 3",
   "language": "python",
   "name": "python3"
  },
  "language_info": {
   "codemirror_mode": {
    "name": "ipython",
    "version": 3
   },
   "file_extension": ".py",
   "mimetype": "text/x-python",
   "name": "python",
   "nbconvert_exporter": "python",
   "pygments_lexer": "ipython3",
   "version": "3.6.9"
  }
 },
 "nbformat": 4,
 "nbformat_minor": 2
}
