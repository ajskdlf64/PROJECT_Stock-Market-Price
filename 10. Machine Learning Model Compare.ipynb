{
 "cells": [
  {
   "cell_type": "markdown",
   "metadata": {},
   "source": [
    "# Target : SK 하이닉스 (000660)"
   ]
  },
  {
   "cell_type": "markdown",
   "metadata": {},
   "source": [
    "## Linear Regression\n",
    "\n",
    "**only close**\n",
    " - Test Score : 0.9277997489811818\n",
    " - Test RMSE : 0.06427065883934567\n",
    " \n",
    "**with OHLC**\n",
    " - Test Score : 0.9502237105040051\n",
    " - Test RMSE : 0.05382296912647316"
   ]
  },
  {
   "cell_type": "markdown",
   "metadata": {},
   "source": [
    "## Random Forest\n",
    "\n",
    "**only close**\n",
    " - Test Score : \n",
    " - Test RMSE : \n",
    " \n",
    "**with OHLC**\n",
    " - Test Score : \n",
    " - Test RMSE : "
   ]
  }
 ],
 "metadata": {
  "kernelspec": {
   "display_name": "Python 3",
   "language": "python",
   "name": "python3"
  },
  "language_info": {
   "codemirror_mode": {
    "name": "ipython",
    "version": 3
   },
   "file_extension": ".py",
   "mimetype": "text/x-python",
   "name": "python",
   "nbconvert_exporter": "python",
   "pygments_lexer": "ipython3",
   "version": "3.6.9"
  }
 },
 "nbformat": 4,
 "nbformat_minor": 2
}
