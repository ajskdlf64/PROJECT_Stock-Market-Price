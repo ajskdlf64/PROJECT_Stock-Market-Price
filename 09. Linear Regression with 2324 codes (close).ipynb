{
 "cells": [
  {
   "cell_type": "code",
   "execution_count": 2,
   "metadata": {},
   "outputs": [],
   "source": [
    "# Seed\n",
    "from numpy.random import seed\n",
    "seed(1234)\n",
    "from tensorflow import set_random_seed\n",
    "set_random_seed(1234)"
   ]
  },
  {
   "cell_type": "code",
   "execution_count": 3,
   "metadata": {},
   "outputs": [],
   "source": [
    "# Warning Message\n",
    "import warnings\n",
    "warnings.filterwarnings(action='ignore') "
   ]
  },
  {
   "cell_type": "code",
   "execution_count": 4,
   "metadata": {},
   "outputs": [],
   "source": [
    "# Data Loading\n",
    "import pandas as pd\n",
    "data = pd.read_csv(\"./data/df_final.csv\")"
   ]
  },
  {
   "cell_type": "code",
   "execution_count": 5,
   "metadata": {},
   "outputs": [],
   "source": [
    "# 필요한 칼럼 추출\n",
    "data = data[[\"date\", \"open\", \"high\", \"low\", \"close\", \"code\"]]"
   ]
  },
  {
   "cell_type": "code",
   "execution_count": 6,
   "metadata": {},
   "outputs": [],
   "source": [
    "# Code 앞에 0 추가\n",
    "data[\"code\"] = data[\"code\"].apply(lambda x : \"{:0>6}\" .format(x))"
   ]
  },
  {
   "cell_type": "code",
   "execution_count": 7,
   "metadata": {},
   "outputs": [],
   "source": [
    "# Code type을 str로 변경\n",
    "data[\"code\"] = data[\"code\"].apply(lambda x : str(x))"
   ]
  },
  {
   "cell_type": "code",
   "execution_count": 8,
   "metadata": {},
   "outputs": [
    {
     "name": "stdout",
     "output_type": "stream",
     "text": [
      "================================================================================\n",
      "============================== 각 종목별 obs 개수 ==============================\n",
      "================================================================================\n",
      "019210    733\n",
      "059090    733\n",
      "010600    733\n",
      "150840    733\n",
      "037950    733\n",
      "         ... \n",
      "287310    494\n",
      "287330    494\n",
      "287320    494\n",
      "570024    494\n",
      "269620    493\n",
      "Name: code, Length: 2539, dtype: int64\n"
     ]
    }
   ],
   "source": [
    "# 각 종목별 obs 개수\n",
    "print(\"=\"*80)\n",
    "print(\"{:=^74}\" .format(\" 각 종목별 obs 개수 \"))\n",
    "print(\"=\"*80)\n",
    "print(data[\"code\"].value_counts())"
   ]
  },
  {
   "cell_type": "code",
   "execution_count": 9,
   "metadata": {},
   "outputs": [
    {
     "name": "stdout",
     "output_type": "stream",
     "text": [
      "================================================================================\n",
      "==================== 3년간 데이터가 완전한 종목 코드 733obs ====================\n",
      "================================================================================\n",
      "Index(['019210', '059090', '010600', '150840', '037950', '123010', '065690',\n",
      "       '006890', '171010', '004380',\n",
      "       ...\n",
      "       '036460', '140710', '065710', '070590', '160580', '114260', '170790',\n",
      "       '057680', '068050', '090460'],\n",
      "      dtype='object', length=2323)\n"
     ]
    }
   ],
   "source": [
    "# 3년간의 데이터가 완전한 종목 코드\n",
    "print(\"=\"*80)\n",
    "print(\"{:=^67}\" .format(\" 3년간 데이터가 완전한 종목 코드 733obs \"))\n",
    "print(\"=\"*80)\n",
    "FULL_DATA_CODE = data[\"code\"].value_counts().index[0:2323]\n",
    "print(FULL_DATA_CODE)"
   ]
  },
  {
   "cell_type": "code",
   "execution_count": 10,
   "metadata": {},
   "outputs": [
    {
     "name": "stdout",
     "output_type": "stream",
     "text": [
      "================================================================================\n",
      "================= 3년간의 데이터가 완전한 종목만 추출한 데이터 =================\n",
      "================================================================================\n",
      "               date   open   high    low  close    code\n",
      "0        2017-01-02  79905  81585  79170  79800  012320\n",
      "1        2017-01-03  80535  80535  79170  79800  012320\n",
      "2        2017-01-04  80535  80955  76965  77175  012320\n",
      "3        2017-01-05  77070  78855  75600  78225  012320\n",
      "4        2017-01-06  78225  79800  77280  77385  012320\n",
      "...             ...    ...    ...    ...    ...     ...\n",
      "1759974  2019-12-23  14050  15000  13950  14300  215600\n",
      "1759975  2019-12-24  14400  14400  13500  13650  215600\n",
      "1759976  2019-12-26  13700  14050  13500  13900  215600\n",
      "1759977  2019-12-27  13900  14300  13900  14050  215600\n",
      "1759978  2019-12-30  14250  14750  14150  14550  215600\n",
      "\n",
      "[1702759 rows x 6 columns]\n"
     ]
    }
   ],
   "source": [
    "# 3년간의 데이터가 완전한 종목만 추출한 데이터\n",
    "print(\"=\"*80)\n",
    "print(\"{:=^61}\" .format(\" 3년간의 데이터가 완전한 종목만 추출한 데이터 \"))\n",
    "print(\"=\"*80)\n",
    "data = data[data[\"code\"].isin(FULL_DATA_CODE)]\n",
    "print(data)\n"
   ]
  },
  {
   "cell_type": "code",
   "execution_count": 11,
   "metadata": {},
   "outputs": [
    {
     "name": "stdout",
     "output_type": "stream",
     "text": [
      "================================================================================\n",
      "================ SHIFT 생성 : 5일 전 종가로 5일 후 종가를 예측 =================\n",
      "================================================================================\n",
      "DATA Length : 1691144obs\n",
      "      close    close5\n",
      "0  0.155096  0.149926\n",
      "1  0.153619  0.158050\n",
      "2  0.160266  0.152880\n",
      "3  0.162482  0.159527\n",
      "4  0.163959  0.158050\n",
      "5  0.151403  0.155096\n",
      "6  0.147710  0.153619\n",
      "7  0.150665  0.160266\n",
      "8  0.149926  0.162482\n",
      "9  0.136632  0.163959\n"
     ]
    }
   ],
   "source": [
    "# RESULT DATASET 생성\n",
    "FINAL_DATA = pd.DataFrame()\n",
    "\n",
    "# 각 종목 별 Shift 생성\n",
    "# 5일 전 종가로 5일 후 종가를 예측\n",
    "temp_data = data                                                                                      \n",
    "for i in FULL_DATA_CODE :                                                                      \n",
    "    data = data[data[\"code\"] == i]                                                                   \n",
    "    for s in range(1,6):                                                                             \n",
    "            data['{}{}'.format(\"close\",s)] = data[\"close\"].shift(s)                                        \n",
    "    data = data.dropna().drop([\"open\", \"high\", \"low\", \"close1\", \"close2\", \"close3\", \"close4\", \"date\", \"code\"], axis=1)\n",
    "    from sklearn.preprocessing import MinMaxScaler\n",
    "    scaler = MinMaxScaler()\n",
    "    scaler.fit(data)\n",
    "    data = scaler.transform(data)\n",
    "    data = pd.DataFrame(data, columns = [\"close\", \"close5\"])\n",
    "    FINAL_DATA = FINAL_DATA.append(data)                                                             \n",
    "    data = temp_data                                                                               \n",
    "print(\"=\"*80)\n",
    "print(\"{:=^66}\" .format(\" SHIFT 생성 : 5일 전 종가로 5일 후 종가를 예측 \"))\n",
    "print(\"=\"*80)\n",
    "FINAL_DATA = FINAL_DATA[[\"close\", \"close5\"]]\n",
    "print(\"DATA Length : {}obs\" .format(len(FINAL_DATA)))\n",
    "print(FINAL_DATA[0:10])"
   ]
  },
  {
   "cell_type": "code",
   "execution_count": 12,
   "metadata": {},
   "outputs": [],
   "source": [
    "# Data 새로 만들기\n",
    "FINAL_DATA.to_csv(\"./data/ALLCODE_DATA.csv\")"
   ]
  },
  {
   "cell_type": "code",
   "execution_count": 13,
   "metadata": {},
   "outputs": [],
   "source": [
    "# 새로 만든 데이터 불러오기\n",
    "data = pd.read_csv(\"./data/ALLCODE_DATA.csv\")"
   ]
  },
  {
   "cell_type": "code",
   "execution_count": 14,
   "metadata": {},
   "outputs": [],
   "source": [
    "# Feature 추출\n",
    "data = data[['close', 'close5']]"
   ]
  },
  {
   "cell_type": "code",
   "execution_count": 15,
   "metadata": {},
   "outputs": [],
   "source": [
    "# Train Test Split\n",
    "from sklearn.model_selection import train_test_split\n",
    "X_train, X_test, y_train, y_test = train_test_split(data[[\"close5\"]], data[[\"close\"]], test_size=0.10, random_state=42)"
   ]
  },
  {
   "cell_type": "code",
   "execution_count": 16,
   "metadata": {},
   "outputs": [],
   "source": [
    "# Model Fitting\n",
    "from sklearn.linear_model import LinearRegression\n",
    "reg = LinearRegression(n_jobs = -1).fit(X_train, y_train)"
   ]
  },
  {
   "cell_type": "code",
   "execution_count": 17,
   "metadata": {},
   "outputs": [
    {
     "name": "stdout",
     "output_type": "stream",
     "text": [
      "================================================================================\n",
      "============================== Linear Regression ===============================\n",
      "================================================================================\n",
      "Train Score : 0.9276316613166372\n",
      "Test Score : 0.9257146303532147\n"
     ]
    }
   ],
   "source": [
    "print(\"=\"*80)\n",
    "print(\"{:=^80}\" .format(\" Linear Regression \"))\n",
    "print(\"=\"*80)\n",
    "print(\"Train Score : {}\" .format(reg.score(X_train, y_train)))\n",
    "print(\"Test Score : {}\" .format(reg.score(X_test, y_test)))"
   ]
  },
  {
   "cell_type": "code",
   "execution_count": 18,
   "metadata": {},
   "outputs": [
    {
     "name": "stdout",
     "output_type": "stream",
     "text": [
      "Train RMSE : 0.06561498432988283\n",
      "Test RMSE : 0.0663062607476601\n"
     ]
    }
   ],
   "source": [
    "# RMSE\n",
    "import numpy as np\n",
    "from sklearn.metrics import mean_squared_error\n",
    "mse = mean_squared_error(y_train, reg.predict(X_train))\n",
    "rmse = mse ** 0.5\n",
    "print(\"Train RMSE : {}\" .format(rmse))\n",
    "mse = mean_squared_error(y_test, reg.predict(X_test))\n",
    "rmse = mse ** 0.5\n",
    "print(\"Test RMSE : {}\" .format(rmse))\n"
   ]
  },
  {
   "cell_type": "code",
   "execution_count": 19,
   "metadata": {},
   "outputs": [],
   "source": [
    "# Data Loading\n",
    "data = pd.read_csv(\"./data/df_final.csv\")"
   ]
  },
  {
   "cell_type": "code",
   "execution_count": 20,
   "metadata": {},
   "outputs": [],
   "source": [
    "# 필요한 칼럼 추출\n",
    "data = data[[\"date\", \"open\", \"high\", \"low\", \"close\", \"code\"]]"
   ]
  },
  {
   "cell_type": "code",
   "execution_count": 21,
   "metadata": {},
   "outputs": [],
   "source": [
    "# Code 앞에 0 추가\n",
    "data[\"code\"] = data[\"code\"].apply(lambda x : \"{:0>6}\" .format(x))"
   ]
  },
  {
   "cell_type": "code",
   "execution_count": 22,
   "metadata": {},
   "outputs": [],
   "source": [
    "# Code type을 str로 변경\n",
    "data[\"code\"] = data[\"code\"].apply(lambda x : str(x))"
   ]
  },
  {
   "cell_type": "code",
   "execution_count": 23,
   "metadata": {},
   "outputs": [
    {
     "name": "stdout",
     "output_type": "stream",
     "text": [
      "================================================================================\n",
      "================================= SK 하이닉스 ==================================\n",
      "================================================================================\n",
      "              date   open   high    low  close    code\n",
      "833420  2017-01-02  44750  46000  44600  45800  000660\n",
      "833421  2017-01-03  46200  47300  46200  47250  000660\n",
      "833422  2017-01-04  47000  47150  46200  46500  000660\n",
      "833423  2017-01-05  47000  47500  46850  46950  000660\n",
      "833424  2017-01-06  47700  48450  47600  48000  000660\n",
      "...            ...    ...    ...    ...    ...     ...\n",
      "834148  2019-12-23  95800  96200  94100  94600  000660\n",
      "834149  2019-12-24  95000  95600  93800  93800  000660\n",
      "834150  2019-12-26  94000  95100  93500  94800  000660\n",
      "834151  2019-12-27  94800  97000  94200  96000  000660\n",
      "834152  2019-12-30  95600  96300  94100  94100  000660\n",
      "\n",
      "[733 rows x 6 columns]\n"
     ]
    }
   ],
   "source": [
    "# 3년간의 데이터가 완전한 종목만 추출한 데이터\n",
    "print(\"=\"*80)\n",
    "print(\"{:=^76}\" .format(\" SK 하이닉스 \"))\n",
    "print(\"=\"*80)\n",
    "data = data[data[\"code\"] == \"000660\"]\n",
    "print(data)"
   ]
  },
  {
   "cell_type": "code",
   "execution_count": 24,
   "metadata": {},
   "outputs": [
    {
     "name": "stdout",
     "output_type": "stream",
     "text": [
      "================================================================================\n",
      "============================ SK 하이닉스 SHIFT DATA ============================\n",
      "================================================================================\n",
      "DATA Length : 728obs\n",
      "        close   close5\n",
      "833425  49550  45800.0\n",
      "833426  49750  47250.0\n",
      "833427  51600  46500.0\n",
      "833428  50600  46950.0\n",
      "833429  50300  48000.0\n",
      "833430  49300  49550.0\n",
      "833431  49300  49750.0\n",
      "833432  48850  51600.0\n",
      "833433  49600  50600.0\n",
      "833434  49150  50300.0\n"
     ]
    }
   ],
   "source": [
    "# 각 종목 별 Shift 생성\n",
    "# 5일 전 종가로 5일 후 종가를 예측\n",
    "for s in range(1,6):                                                                             \n",
    "        data['{}{}'.format(\"close\",s)] = data[\"close\"].shift(s)                                        \n",
    "data = data.dropna().drop([\"open\", \"high\", \"low\", \"close1\", \"close2\", \"close3\", \"close4\", \"date\", \"code\"], axis=1)\n",
    "print(\"=\"*80)\n",
    "print(\"{:=^76}\" .format(\" SK 하이닉스 SHIFT DATA \"))\n",
    "print(\"=\"*80)\n",
    "print(\"DATA Length : {}obs\" .format(len(data)))\n",
    "print(data[0:10])"
   ]
  },
  {
   "cell_type": "code",
   "execution_count": 25,
   "metadata": {},
   "outputs": [
    {
     "name": "stdout",
     "output_type": "stream",
     "text": [
      "================================================================================\n",
      "========================== SK 하이닉스  MinMaxScaler ===========================\n",
      "================================================================================\n",
      "DATA Length : 728obs\n",
      "   close    close5\n",
      "0  0.071  0.000000\n",
      "1  0.075  0.029293\n",
      "2  0.112  0.014141\n",
      "3  0.092  0.023232\n",
      "4  0.086  0.044444\n",
      "5  0.066  0.075758\n",
      "6  0.066  0.079798\n",
      "7  0.057  0.117172\n",
      "8  0.072  0.096970\n",
      "9  0.063  0.090909\n"
     ]
    }
   ],
   "source": [
    "FINAL_DATA = pd.DataFrame()\n",
    "from sklearn.preprocessing import MinMaxScaler\n",
    "scaler = MinMaxScaler()\n",
    "scaler.fit(data)\n",
    "data = scaler.transform(data)\n",
    "data = pd.DataFrame(data, columns = [\"close\", \"close5\"])\n",
    "FINAL_DATA = FINAL_DATA.append(data)\n",
    "print(\"=\"*80)\n",
    "print(\"{:=^76}\" .format(\" SK 하이닉스  MinMaxScaler \"))\n",
    "print(\"=\"*80)\n",
    "FINAL_DATA = FINAL_DATA[[\"close\", \"close5\"]]\n",
    "print(\"DATA Length : {}obs\" .format(len(FINAL_DATA)))\n",
    "print(FINAL_DATA[0:10])"
   ]
  },
  {
   "cell_type": "code",
   "execution_count": 26,
   "metadata": {},
   "outputs": [],
   "source": [
    "# 하이닉스 X, y\n",
    "X = FINAL_DATA[[\"close5\"]].values\n",
    "y = FINAL_DATA[[\"close\"]].values"
   ]
  },
  {
   "cell_type": "code",
   "execution_count": 27,
   "metadata": {},
   "outputs": [
    {
     "name": "stdout",
     "output_type": "stream",
     "text": [
      "================================================================================\n",
      "=============================== SK하이닉스 Score ===============================\n",
      "================================================================================\n",
      "Test Score : 0.9032836294674936\n"
     ]
    }
   ],
   "source": [
    "# Sk 하이닉스 Score\n",
    "print(\"=\"*80)\n",
    "print(\"{:=^76}\" .format(\" SK하이닉스 Score \"))\n",
    "print(\"=\"*80)\n",
    "print(\"Test Score : {}\" .format(reg.score(X, y)))"
   ]
  },
  {
   "cell_type": "code",
   "execution_count": 28,
   "metadata": {},
   "outputs": [
    {
     "name": "stdout",
     "output_type": "stream",
     "text": [
      "Test RMSE : 0.07064654077620407\n"
     ]
    }
   ],
   "source": [
    "# RMSE\n",
    "import numpy as np\n",
    "from sklearn.metrics import mean_squared_error\n",
    "mse = mean_squared_error(y, reg.predict(X))\n",
    "rmse = mse ** 0.5\n",
    "print(\"Test RMSE : {}\" .format(rmse))"
   ]
  }
 ],
 "metadata": {
  "kernelspec": {
   "display_name": "Python 3",
   "language": "python",
   "name": "python3"
  },
  "language_info": {
   "codemirror_mode": {
    "name": "ipython",
    "version": 3
   },
   "file_extension": ".py",
   "mimetype": "text/x-python",
   "name": "python",
   "nbconvert_exporter": "python",
   "pygments_lexer": "ipython3",
   "version": "3.6.9"
  }
 },
 "nbformat": 4,
 "nbformat_minor": 2
}
