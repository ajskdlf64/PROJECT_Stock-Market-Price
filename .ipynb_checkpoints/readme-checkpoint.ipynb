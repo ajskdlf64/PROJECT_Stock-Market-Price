{
 "cells": [
  {
   "cell_type": "markdown",
   "metadata": {},
   "source": [
    "# DNA INTERSHIP"
   ]
  },
  {
   "cell_type": "markdown",
   "metadata": {},
   "source": [
    "## 01. Export-Import Bank's Exchange Rate\n",
    "\n",
    "수출입은행의 OPEN API를 이용해 환율 데이터를 가져오고 시각화"
   ]
  },
  {
   "cell_type": "markdown",
   "metadata": {},
   "source": [
    "## 02. Stock Market Price Predict Model (Only Close, HYNIX)\n",
    "\n",
    "2017 ~ 2019년의 3년간의 SK 하이닉스의 주식 데이터(OHLC) 중 종가(close)만 사용하여 LSTM 시퀀스 모델 구축"
   ]
  },
  {
   "cell_type": "markdown",
   "metadata": {},
   "source": [
    "## 03. Stock Market Price Predict Model (with OHLC, HYNIX)\n",
    "\n",
    "2017 ~ 2019년의 3년간의 SK 하이닉스의 주식 데이터(OHLC)를 모두 사용하여 LSTM 시퀀스 모델 구축"
   ]
  },
  {
   "cell_type": "markdown",
   "metadata": {},
   "source": [
    "## 04. Stock Market Indicator\n",
    "\n",
    "주식 시장에 대해 기술적 분석을 위한 다양한 지표들"
   ]
  },
  {
   "cell_type": "markdown",
   "metadata": {},
   "source": [
    "## 05. Stock Market Price Predict Model (LSTM, CPU)\n",
    "\n",
    "예측 시점은 시장일 기준 5일 후, Stacking Model을 위해 LSTM 모델을 setting, CPU 환경에서 구동을 위해 단층 LSTM 설계"
   ]
  },
  {
   "cell_type": "markdown",
   "metadata": {},
   "source": [
    "## 06. Stock Market Price Predict Model (LSTM, GPU)"
   ]
  },
  {
   "cell_type": "markdown",
   "metadata": {},
   "source": [
    "예측 시점은 시장일 기준 5일 후, Stacking Model을 위해 LSTM 모델을 setting, GPU 환경에서 구동을 위해 3-Layer LSTM 설계"
   ]
  },
  {
   "cell_type": "markdown",
   "metadata": {},
   "source": [
    "## 07. Stock Market Price Predict Model (Top30 ,Bottom30)"
   ]
  },
  {
   "cell_type": "markdown",
   "metadata": {},
   "source": [
    "Facebook PROPHET 모형으로 돌렸을 때 RMSE가 가장 높은 30개의 종목과 가장 낮은 30개의 종목에 대하여 LSTM의 RMSE 산출"
   ]
  },
  {
   "cell_type": "markdown",
   "metadata": {},
   "source": [
    "## 08. Stock Market Price Predict Model (with OHLC, TOP30, BOTTOM30)"
   ]
  },
  {
   "cell_type": "markdown",
   "metadata": {},
   "source": [
    "07의 종목들을 직접 구하는 코드"
   ]
  },
  {
   "cell_type": "markdown",
   "metadata": {},
   "source": [
    "## 09. Linear Regression with 2324 codes (close)"
   ]
  },
  {
   "cell_type": "markdown",
   "metadata": {},
   "source": [
    "close만을 사용한 단순 회귀 모델"
   ]
  },
  {
   "cell_type": "markdown",
   "metadata": {},
   "source": [
    "## 10. Linear Regression with 2324 codes (ohlc)"
   ]
  },
  {
   "cell_type": "markdown",
   "metadata": {},
   "source": [
    "ohlc를 활용한 Multi Linear Regression"
   ]
  },
  {
   "cell_type": "markdown",
   "metadata": {},
   "source": [
    "## 11. Model Build"
   ]
  },
  {
   "cell_type": "markdown",
   "metadata": {},
   "source": [
    "모델 설명 / 현재 상황 / 향후 진행 방향"
   ]
  },
  {
   "cell_type": "markdown",
   "metadata": {},
   "source": [
    "## 12. LightGBM"
   ]
  },
  {
   "cell_type": "markdown",
   "metadata": {},
   "source": [
    "LightGBM 알고리즘의 논문 및 번역본 / 하이퍼파라미터 설명"
   ]
  },
  {
   "cell_type": "markdown",
   "metadata": {},
   "source": [
    "## 13. LightGBM with Stock Data"
   ]
  },
  {
   "cell_type": "markdown",
   "metadata": {},
   "source": [
    "3년간의 모든 종목들에 대한 기본 OHLC와 사내 창출 데이터를 결합하여 LightGBM을 활용한 Multi-Class-Classification Model 구축"
   ]
  }
 ],
 "metadata": {
  "kernelspec": {
   "display_name": "Python 3",
   "language": "python",
   "name": "python3"
  },
  "language_info": {
   "codemirror_mode": {
    "name": "ipython",
    "version": 3
   },
   "file_extension": ".py",
   "mimetype": "text/x-python",
   "name": "python",
   "nbconvert_exporter": "python",
   "pygments_lexer": "ipython3",
   "version": "3.6.9"
  }
 },
 "nbformat": 4,
 "nbformat_minor": 2
}
