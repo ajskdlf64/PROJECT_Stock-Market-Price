{
 "cells": [
  {
   "cell_type": "markdown",
   "metadata": {},
   "source": [
    "# 모델 설계도"
   ]
  },
  {
   "cell_type": "markdown",
   "metadata": {},
   "source": [
    "#### 1. 2017 ~ 2019년의 3년간의 자료가 있는 종목은 2549 종목\n",
    "\n",
    "#### 2. 그 중에 3년치 데이터(733 obs)가 온전하게 있는 경우는 2324 종목\n",
    "\n",
    "#### 3. 5일 후를 예측하는 모형 생성 준비\n",
    "\n",
    "#### 4. 그 종목들 중 10%에 대하여 Test로 분리\n",
    "\n",
    "#### 5. 90%의 Train 데이터 중 다시 90 : 10 으로 Train과 Test를 랜덤으로 분리\n",
    "\n",
    "#### 6. Random Forest 모형을 적용\n",
    "\n",
    "#### 7. 10%의 Test 종목에 대하여 평균 RMSE 계산"
   ]
  },
  {
   "cell_type": "code",
   "execution_count": 1,
   "metadata": {
    "scrolled": false
   },
   "outputs": [
    {
     "name": "stderr",
     "output_type": "stream",
     "text": [
      "C:\\Users\\user\\Anaconda3\\lib\\site-packages\\IPython\\core\\interactiveshell.py:3058: DtypeWarning: Columns (8) have mixed types. Specify dtype option on import or set low_memory=False.\n",
      "  interactivity=interactivity, compiler=compiler, result=result)\n"
     ]
    },
    {
     "name": "stdout",
     "output_type": "stream",
     "text": [
      "**********************\n",
      "* 각 종목별 obs 개수 *\n",
      "**********************\n",
      "085910    733\n",
      "530009    733\n",
      "238670    733\n",
      "034020    733\n",
      "008290    733\n",
      "         ... \n",
      "287300    494\n",
      "287310    494\n",
      "287320    494\n",
      "287330    494\n",
      "269620    493\n",
      "Name: code, Length: 2539, dtype: int64\n",
      "\n",
      "\n",
      "\n",
      "******************************************\n",
      "* 3년간 데이터가 완전한 종목 코드 733obs *\n",
      "******************************************\n",
      "Index(['085910', '530009', '238670', '034020', '008290', '033540', '045100',\n",
      "       '064290', '086790', '174360',\n",
      "       ...\n",
      "       '123310', '086250', '003650', '217600', '017550', '102260', '043200',\n",
      "       '031390', '045970', '014280'],\n",
      "      dtype='object', length=2323)\n",
      "\n",
      "\n",
      "\n",
      "************************************************\n",
      "* 3년간의 데이터가 완전한 종목만 추출한 데이터 *\n",
      "************************************************\n",
      "               date   open   high    low  close    code\n",
      "0        2017-01-02  79905  81585  79170  79800  012320\n",
      "1        2017-01-03  80535  80535  79170  79800  012320\n",
      "2        2017-01-04  80535  80955  76965  77175  012320\n",
      "3        2017-01-05  77070  78855  75600  78225  012320\n",
      "4        2017-01-06  78225  79800  77280  77385  012320\n",
      "...             ...    ...    ...    ...    ...     ...\n",
      "1759974  2019-12-23  14050  15000  13950  14300  215600\n",
      "1759975  2019-12-24  14400  14400  13500  13650  215600\n",
      "1759976  2019-12-26  13700  14050  13500  13900  215600\n",
      "1759977  2019-12-27  13900  14300  13900  14050  215600\n",
      "1759978  2019-12-30  14250  14750  14150  14550  215600\n",
      "\n",
      "[1702759 rows x 6 columns]\n",
      "\n",
      "\n",
      "\n"
     ]
    },
    {
     "name": "stderr",
     "output_type": "stream",
     "text": [
      "C:\\Users\\user\\Anaconda3\\lib\\site-packages\\ipykernel_launcher.py:49: SettingWithCopyWarning: \n",
      "A value is trying to be set on a copy of a slice from a DataFrame.\n",
      "Try using .loc[row_indexer,col_indexer] = value instead\n",
      "\n",
      "See the caveats in the documentation: http://pandas.pydata.org/pandas-docs/stable/user_guide/indexing.html#returning-a-view-versus-a-copy\n"
     ]
    },
    {
     "name": "stdout",
     "output_type": "stream",
     "text": [
      "*************************************************\n",
      "* SHIFT 생성 : 5일 전 종가로 5일 후 종가를 예측 *\n",
      "*************************************************\n",
      "DATA Length : 2184obs\n",
      "          code        date  close  close5\n",
      "644311  085910  2017-01-09   5180  5150.0\n",
      "644312  085910  2017-01-10   5150  5140.0\n",
      "644313  085910  2017-01-11   5160  5130.0\n",
      "644314  085910  2017-01-12   5130  5150.0\n",
      "644315  085910  2017-01-13   5140  5180.0\n",
      "644316  085910  2017-01-16   5140  5180.0\n",
      "644317  085910  2017-01-17   5130  5150.0\n",
      "644318  085910  2017-01-18   5140  5160.0\n",
      "644319  085910  2017-01-19   5110  5130.0\n",
      "644320  085910  2017-01-20   5110  5140.0\n",
      "644321  085910  2017-01-23   5120  5140.0\n",
      "644322  085910  2017-01-24   5120  5130.0\n",
      "644323  085910  2017-01-25   5140  5140.0\n",
      "644324  085910  2017-01-26   5140  5110.0\n",
      "644325  085910  2017-01-31   5120  5110.0\n",
      "644326  085910  2017-02-01   5120  5120.0\n",
      "644327  085910  2017-02-02   5270  5120.0\n",
      "644328  085910  2017-02-03   5170  5140.0\n",
      "644329  085910  2017-02-06   5260  5140.0\n",
      "644330  085910  2017-02-07   5310  5120.0\n"
     ]
    }
   ],
   "source": [
    "# Data Loading\n",
    "import pandas as pd\n",
    "data = pd.read_csv(\"./data/df_final.csv\")\n",
    "\n",
    "# 필요한 칼럼 추출\n",
    "data = data[[\"date\", \"open\", \"high\", \"low\", \"close\", \"code\"]]\n",
    "\n",
    "# Code 앞에 0 추가\n",
    "data[\"code\"] = data[\"code\"].apply(lambda x : \"{:0>6}\" .format(x))\n",
    "\n",
    "# Code type을 str로 변경\n",
    "data[\"code\"] = data[\"code\"].apply(lambda x : str(x))\n",
    "\n",
    "# 각 종목별 obs 개수\n",
    "print(\"*\"*22)\n",
    "print(\"* 각 종목별 obs 개수 *\")\n",
    "print(\"*\"*22)\n",
    "print(data[\"code\"].value_counts())\n",
    "\n",
    "print(\"\\n\\n\")\n",
    "\n",
    "# 3년간의 데이터가 완전한 종목 코드\n",
    "print(\"*\"*42)\n",
    "print(\"* 3년간 데이터가 완전한 종목 코드 733obs *\")\n",
    "print(\"*\"*42)\n",
    "FULL_DATA_CODE = data[\"code\"].value_counts().index[0:2323]\n",
    "print(FULL_DATA_CODE)\n",
    "\n",
    "print(\"\\n\\n\")\n",
    "\n",
    "# 3년간의 데이터가 완전한 종목만 추출한 데이터\n",
    "print(\"*\"*48)\n",
    "print(\"* 3년간의 데이터가 완전한 종목만 추출한 데이터 *\")\n",
    "print(\"*\"*48)\n",
    "data = data[data[\"code\"].isin(FULL_DATA_CODE)]\n",
    "print(data)\n",
    "\n",
    "print(\"\\n\\n\")\n",
    "\n",
    "# RESULT DATASET 생성\n",
    "FINAL_DATA = pd.DataFrame()\n",
    "\n",
    "# 각 종목 별 Shift 생성\n",
    "# 5일 전 종가로 5일 후 종가를 예측\n",
    "temp_data = data                                                                                      # 임시 복사본 데이터 생성\n",
    "for i in FULL_DATA_CODE[0:3] :                                                                            # 종목 순환\n",
    "    data = data[data[\"code\"] == i]                                                                   # 특정 종목의 데이터\n",
    "    for s in range(1,6):                                                                             # 쉬프트 생성을 위한 반복\n",
    "            data['{}{}'.format(\"close\",s)] = data[\"close\"].shift(s)                                        # 쉬프트 생성\n",
    "    data = data.dropna().drop([\"open\", \"high\", \"low\", \"close1\", \"close2\", \"close3\", \"close4\"], axis=1)\n",
    "    FINAL_DATA = FINAL_DATA.append(data)                                                             # 최종 데이터에 추가\n",
    "    data = temp_data                                                                                 # 데이터 리셋\n",
    "print(\"*\"*49)\n",
    "print(\"* SHIFT 생성 : 5일 전 종가로 5일 후 종가를 예측 *\")\n",
    "print(\"*\"*49)\n",
    "FINAL_DATA = FINAL_DATA[[\"code\", \"date\", \"close\", \"close5\"]]\n",
    "print(\"DATA Length : {}obs\" .format(len(FINAL_DATA)))\n",
    "print(FINAL_DATA[0:20])"
   ]
  },
  {
   "cell_type": "code",
   "execution_count": 2,
   "metadata": {},
   "outputs": [],
   "source": [
    "# Data 새로 만들기\n",
    "FINAL_DATA.to_csv(\"./data/ALLCODE_DATA.csv\")\n",
    "\n",
    "# 새로 만든 데이터 불러오기\n",
    "data = pd.read_csv(\"./data/ALLCODE_DATA.csv\")\n",
    "\n",
    "data = data[['close', 'close5']]"
   ]
  },
  {
   "cell_type": "code",
   "execution_count": 3,
   "metadata": {},
   "outputs": [
    {
     "name": "stdout",
     "output_type": "stream",
     "text": [
      "========================================\n",
      "========== Linear Regression ===========\n",
      "========================================\n",
      "Train Score : 0.9929783264440873\n",
      "Test Score : 0.9927002380840843\n",
      "RMSE : 137.13109114303126\n",
      "Percent RMSE : close    0.017546\n",
      "dtype: float64\n",
      "========================================\n"
     ]
    }
   ],
   "source": [
    "from sklearn.model_selection import train_test_split\n",
    "X_train, X_test, y_train, y_test = train_test_split(data[[\"close5\"]], data[[\"close\"]], test_size=0.10, random_state=42)\n",
    "\n",
    "from sklearn.linear_model import LinearRegression\n",
    "reg = LinearRegression().fit(X_train, y_train)\n",
    "\n",
    "print(\"=\"*40)\n",
    "print(\"{:=^40}\" .format(\" Linear Regression \"))\n",
    "print(\"=\"*40)\n",
    "print(\"Train Score : {}\" .format(reg.score(X_train, y_train)))\n",
    "print(\"Test Score : {}\" .format(reg.score(X_test, y_test)))\n",
    "\n",
    "# RMSE\n",
    "error = y_test.values - reg.predict(X_test)\n",
    "error_2 = error * error\n",
    "import numpy as np\n",
    "rmse = np.mean(error_2**0.5)\n",
    "print(\"RMSE : {}\" .format(rmse))\n",
    "RRR = np.mean(y_test)\n",
    "print(\"Percent RMSE : {}\" .format(float(rmse) / RRR))\n",
    "print(\"=\"*40)"
   ]
  }
 ],
 "metadata": {
  "kernelspec": {
   "display_name": "Python 3",
   "language": "python",
   "name": "python3"
  },
  "language_info": {
   "codemirror_mode": {
    "name": "ipython",
    "version": 3
   },
   "file_extension": ".py",
   "mimetype": "text/x-python",
   "name": "python",
   "nbconvert_exporter": "python",
   "pygments_lexer": "ipython3",
   "version": "3.6.9"
  }
 },
 "nbformat": 4,
 "nbformat_minor": 2
}
