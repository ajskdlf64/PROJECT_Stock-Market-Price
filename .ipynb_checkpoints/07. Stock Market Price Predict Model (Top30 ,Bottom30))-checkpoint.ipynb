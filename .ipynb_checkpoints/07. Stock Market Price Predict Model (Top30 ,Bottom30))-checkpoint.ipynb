{
 "cells": [
  {
   "cell_type": "code",
   "execution_count": 7,
   "metadata": {},
   "outputs": [],
   "source": [
    "# Library\n",
    "import pandas as pd\n",
    "\n",
    "# Data Loading\n",
    "data = pd.read_csv(\"./data/rms_df.csv\")\n",
    "\n",
    "# 필요없는 column 제거\n",
    "data = data[data.columns[1:]]\n",
    "\n",
    "# Top 30\n",
    "TOP_30_DATA = data.sort_values(by=\"percent of rms\")[0:30]\n",
    "\n",
    "# Bottom 30\n",
    "BOTTOM_30_DATA = data.sort_values(by=\"percent of rms\", ascending=False)[0:30]\n",
    "\n",
    "# Merge Data\n",
    "data = pd.read_csv(\"./data/df_final.csv\")\n",
    "\n",
    "# 필요없는 column 제거\n",
    "data = data[data.columns[1:]]\n",
    "\n",
    "# Date를 익덱스로 변경\n",
    "data[\"date\"] = pd.to_datetime(data[\"date\"])\n",
    "data = data.set_index(\"date\")\n",
    "\n",
    "# OHLC와 code 추출\n",
    "data = data[[\"open\", \"high\", \"low\", \"close\", \"code\"]]\n",
    "\n",
    "# 종목 LIST\n",
    "TOP_LIST = TOP_30_DATA[\"code_number\"].values\n",
    "BOTTOM_LIST = BOTTOM_30_DATA[\"code_number\"].values"
   ]
  },
  {
   "cell_type": "code",
   "execution_count": 11,
   "metadata": {},
   "outputs": [
    {
     "data": {
      "text/html": [
       "<div>\n",
       "<style scoped>\n",
       "    .dataframe tbody tr th:only-of-type {\n",
       "        vertical-align: middle;\n",
       "    }\n",
       "\n",
       "    .dataframe tbody tr th {\n",
       "        vertical-align: top;\n",
       "    }\n",
       "\n",
       "    .dataframe thead th {\n",
       "        text-align: right;\n",
       "    }\n",
       "</style>\n",
       "<table border=\"1\" class=\"dataframe\">\n",
       "  <thead>\n",
       "    <tr style=\"text-align: right;\">\n",
       "      <th></th>\n",
       "      <th>code_number</th>\n",
       "      <th>rms</th>\n",
       "      <th>percent of rms</th>\n",
       "    </tr>\n",
       "  </thead>\n",
       "  <tbody>\n",
       "    <tr>\n",
       "      <th>6</th>\n",
       "      <td>34590</td>\n",
       "      <td>110.408510</td>\n",
       "      <td>0.369026</td>\n",
       "    </tr>\n",
       "    <tr>\n",
       "      <th>1</th>\n",
       "      <td>117580</td>\n",
       "      <td>49.046129</td>\n",
       "      <td>0.843753</td>\n",
       "    </tr>\n",
       "    <tr>\n",
       "      <th>408</th>\n",
       "      <td>18120</td>\n",
       "      <td>282.462841</td>\n",
       "      <td>0.896250</td>\n",
       "    </tr>\n",
       "    <tr>\n",
       "      <th>209</th>\n",
       "      <td>88980</td>\n",
       "      <td>94.092585</td>\n",
       "      <td>0.988145</td>\n",
       "    </tr>\n",
       "    <tr>\n",
       "      <th>202</th>\n",
       "      <td>132030</td>\n",
       "      <td>95.892830</td>\n",
       "      <td>0.993784</td>\n",
       "    </tr>\n",
       "  </tbody>\n",
       "</table>\n",
       "</div>"
      ],
      "text/plain": [
       "     code_number         rms  percent of rms\n",
       "6          34590  110.408510        0.369026\n",
       "1         117580   49.046129        0.843753\n",
       "408        18120  282.462841        0.896250\n",
       "209        88980   94.092585        0.988145\n",
       "202       132030   95.892830        0.993784"
      ]
     },
     "execution_count": 11,
     "metadata": {},
     "output_type": "execute_result"
    }
   ],
   "source": [
    "TOP_30_DATA.head()"
   ]
  },
  {
   "cell_type": "code",
   "execution_count": 12,
   "metadata": {},
   "outputs": [
    {
     "data": {
      "text/html": [
       "<div>\n",
       "<style scoped>\n",
       "    .dataframe tbody tr th:only-of-type {\n",
       "        vertical-align: middle;\n",
       "    }\n",
       "\n",
       "    .dataframe tbody tr th {\n",
       "        vertical-align: top;\n",
       "    }\n",
       "\n",
       "    .dataframe thead th {\n",
       "        text-align: right;\n",
       "    }\n",
       "</style>\n",
       "<table border=\"1\" class=\"dataframe\">\n",
       "  <thead>\n",
       "    <tr style=\"text-align: right;\">\n",
       "      <th></th>\n",
       "      <th>code_number</th>\n",
       "      <th>rms</th>\n",
       "      <th>percent of rms</th>\n",
       "    </tr>\n",
       "  </thead>\n",
       "  <tbody>\n",
       "    <tr>\n",
       "      <th>282</th>\n",
       "      <td>71970</td>\n",
       "      <td>19523.100748</td>\n",
       "      <td>58.848619</td>\n",
       "    </tr>\n",
       "    <tr>\n",
       "      <th>398</th>\n",
       "      <td>7390</td>\n",
       "      <td>2980.221970</td>\n",
       "      <td>24.430273</td>\n",
       "    </tr>\n",
       "    <tr>\n",
       "      <th>248</th>\n",
       "      <td>215090</td>\n",
       "      <td>569.442396</td>\n",
       "      <td>22.483639</td>\n",
       "    </tr>\n",
       "    <tr>\n",
       "      <th>86</th>\n",
       "      <td>8355</td>\n",
       "      <td>4235.389647</td>\n",
       "      <td>22.419857</td>\n",
       "    </tr>\n",
       "    <tr>\n",
       "      <th>50</th>\n",
       "      <td>44180</td>\n",
       "      <td>166.756003</td>\n",
       "      <td>20.816596</td>\n",
       "    </tr>\n",
       "  </tbody>\n",
       "</table>\n",
       "</div>"
      ],
      "text/plain": [
       "     code_number           rms  percent of rms\n",
       "282        71970  19523.100748       58.848619\n",
       "398         7390   2980.221970       24.430273\n",
       "248       215090    569.442396       22.483639\n",
       "86          8355   4235.389647       22.419857\n",
       "50         44180    166.756003       20.816596"
      ]
     },
     "execution_count": 12,
     "metadata": {},
     "output_type": "execute_result"
    }
   ],
   "source": [
    "BOTTOM_30_DATA.head()"
   ]
  },
  {
   "cell_type": "code",
   "execution_count": 8,
   "metadata": {
    "scrolled": true
   },
   "outputs": [
    {
     "data": {
      "text/plain": [
       "array([ 34590, 117580,  18120,  88980, 132030, 500016, 500006,  15350,\n",
       "        17390,  24090,   4450,  78020, 137610,  98560,  15360,   6220,\n",
       "       144600, 160580, 500017, 227560, 139310, 115310, 139270,  71320,\n",
       "       138920, 227550, 500008, 138910, 500018,  36560], dtype=int64)"
      ]
     },
     "execution_count": 8,
     "metadata": {},
     "output_type": "execute_result"
    }
   ],
   "source": [
    "TOP_LIST"
   ]
  },
  {
   "cell_type": "code",
   "execution_count": 9,
   "metadata": {
    "scrolled": false
   },
   "outputs": [
    {
     "data": {
      "text/plain": [
       "array([ 71970,   7390, 215090,   8355,  44180,  74610, 239340,  41190,\n",
       "          725,  12205,  19990,  25980,  44060, 225430, 182360, 100660,\n",
       "         1470,   1260,  86250,   2995,  65620,  91590,  48470,  96350,\n",
       "         8970,  26150, 220260,   1840,   4565,  25870], dtype=int64)"
      ]
     },
     "execution_count": 9,
     "metadata": {},
     "output_type": "execute_result"
    }
   ],
   "source": [
    "BOTTOM_LIST"
   ]
  },
  {
   "cell_type": "markdown",
   "metadata": {},
   "source": [
    "## TOP5\n",
    "###    34590 : prophet 0.36% / LSTM : 8.69%\n",
    "###  117580 : prophet 0.84% / LSTM : 3.42%\n",
    "###   18120 :  prophet 0.89% / LSTM : 3.47%\n",
    "###   88980 :  prophet 0.98% / LSTM : 2.78%\n",
    "### 132030 :  prophet 0.99% / LSTM : 5.05%"
   ]
  },
  {
   "cell_type": "markdown",
   "metadata": {},
   "source": [
    "## BOTTOM5\n",
    "### 71970 : prophet 58.84% / LSTM : 2.12%\n",
    "### 7390 : prophet 24.43% / LSTM : 2.32%\n",
    "### 215090 : prophet 22.48% / LSTM : 2.47%\n",
    "### 8355 : prophet 22.41% / LSTM : 10.57%\n",
    "### 44180 : prophet 20.81% / LSTM : 3.017%  -> 거래중지 종목"
   ]
  }
 ],
 "metadata": {
  "kernelspec": {
   "display_name": "Python 3",
   "language": "python",
   "name": "python3"
  },
  "language_info": {
   "codemirror_mode": {
    "name": "ipython",
    "version": 3
   },
   "file_extension": ".py",
   "mimetype": "text/x-python",
   "name": "python",
   "nbconvert_exporter": "python",
   "pygments_lexer": "ipython3",
   "version": "3.6.9"
  }
 },
 "nbformat": 4,
 "nbformat_minor": 2
}
