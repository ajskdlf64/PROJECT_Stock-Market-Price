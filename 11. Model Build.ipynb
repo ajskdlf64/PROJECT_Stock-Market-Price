{
 "cells": [
  {
   "cell_type": "markdown",
   "metadata": {},
   "source": [
    "# Model 설명"
   ]
  },
  {
   "cell_type": "markdown",
   "metadata": {},
   "source": [
    " - 현재 주식의 가격 결정 알고리즘은 5일 전의 open, high, low, close의 4가지 독립변수의 선형 결합으로 이루어진다고 가정.\n",
    " \n",
    " \n",
    " - 개별 주식의 시계열적인 특징을 무시하고, 전체 종목들을 하나의 종목(Korea Stock Market)으로 간주하고, Linear Model 적용.\n",
    " \n",
    " \n",
    " - 회귀 모형의 특성상 Train 안의 Scale에서 움직이기 때문에, 삼성전자, SK하이닉스처럼 매일 매일 고가를 찍으며 꾸준히 상승하거나, 정반대의 종목에 대해서는 예측 정확도가 많이 떨어질 우려가 있음.\n",
    " \n",
    " \n",
    " - 그러나, 위의 종목들은 극소수의 Outlier, 대부분의 종목들은 최근 3년 이내에 이미 최고점을 찍고, 최고점과 최저점 사이의 range에서 가격이 형성되고 있음.\n",
    " \n",
    " \n",
    " - 따라서, 특정 종목에 대해서 모형을 만들경우, Sequence를 반영한 RNN, LSTM, GRU 모델들이 더 높은 정확도를 보일 수 있으나, 전체 종목에 대해 Fitting 한다면 Machine Learning 기법들도 충분히 좋은 성능을 보일 수 있다고 판단."
   ]
  },
  {
   "cell_type": "markdown",
   "metadata": {},
   "source": [
    "# 현재 상황"
   ]
  },
  {
   "cell_type": "markdown",
   "metadata": {},
   "source": [
    "- 전체 종목(2,324 code)에 대하여 Train 한 모델의 전체 평균 **rmse는 0.0657**\n",
    "\n",
    "\n",
    "- KOSPI, KOSDAQ 시가총액 기준 TOP, BOTTOM5, 거래 가격 1,000,000 이상 대형주, 거래가격 1,000 이하 소형주들을 **Outlier**로 판단. 각 개별 rmse를 구해본 결과 **전체 평균과 큰 편차가 없는 것으로 나타났음.**"
   ]
  },
  {
   "cell_type": "markdown",
   "metadata": {},
   "source": [
    "![figure](./figure/figure01-1.png)"
   ]
  },
  {
   "cell_type": "markdown",
   "metadata": {},
   "source": [
    "![figure](./figure/figure01-2.png)"
   ]
  },
  {
   "cell_type": "markdown",
   "metadata": {},
   "source": [
    "![figure](./figure/figure01-3.png)"
   ]
  },
  {
   "cell_type": "markdown",
   "metadata": {},
   "source": [
    "- 결국, 새로운 종목이 갑자기 등장하지 않는 이상, 한국의 주식 시장에 등록되어있는 종목의 수는 정해져 있기 때문에 Trian data에 포함시킨다면 대부분의 종목의 성능이 비슷하게 나타남.\n",
    "\n",
    "\n",
    "- Overfitting의 문제도 발생할 수 있지만, Stock Tarket의 궁극적인 목표는 기존 시장의 있는 주식의 가격을 예측는 것이지, 미래에 새로 들어올 종목에 대해 예측하는 것이 아니기 때문에, Test할 데이터가 Train에 포함되어도 문제가 없다고 판단."
   ]
  },
  {
   "cell_type": "markdown",
   "metadata": {},
   "source": [
    "![figure](./figure/figure02.png)"
   ]
  },
  {
   "cell_type": "markdown",
   "metadata": {},
   "source": [
    "![figure](./figure/figure03.png)"
   ]
  },
  {
   "cell_type": "markdown",
   "metadata": {},
   "source": [
    "## 향후 진행방향"
   ]
  },
  {
   "cell_type": "markdown",
   "metadata": {},
   "source": [
    " - 주식의 **가격을 정확하게 맞추는 것**보다는, 5일 뒤 주식이 **현재보다 얼만큼 변화했냐**에 초점을 맞추는 모형으로 재설계.\n",
    "  - Multi Classification 모형으로 변환\n",
    "  - 단순히, accuracy를 맞추는 것보다 기대 비용 함수와 같은 지표를 생성해서, 그 지표가 최대(최소) 되도록 Fitting\n",
    "  - 각 label별 점수를 계산해서 점수의 MAX에 얼마나 근접하게 나오는지 성능 체크"
   ]
  },
  {
   "cell_type": "markdown",
   "metadata": {},
   "source": [
    "**5일뒤의 상승폭만 예측하는 Classification**"
   ]
  },
  {
   "cell_type": "markdown",
   "metadata": {},
   "source": [
    "![figure](./figure/figure04-1.png)"
   ]
  },
  {
   "cell_type": "markdown",
   "metadata": {},
   "source": [
    "**5일뒤의 변화량을 예측하는 classification**"
   ]
  },
  {
   "cell_type": "markdown",
   "metadata": {},
   "source": [
    "![figure](./figure/figure04-2.png)"
   ]
  },
  {
   "cell_type": "markdown",
   "metadata": {},
   "source": [
    " - Machine Learning 알고리즘의 성능을 더 향상시키기 위해 다향한 기술적 지표를 Feature로 사용\n",
    "  - ex) EMA, Bollinger Bands, stochastic oscillator..."
   ]
  },
  {
   "cell_type": "markdown",
   "metadata": {},
   "source": [
    "![figure](./figure/figure05.png)"
   ]
  },
  {
   "cell_type": "markdown",
   "metadata": {},
   "source": [
    " - 현재 사용한 Linear Regression 대신에 더 좋은 성능을 낼 수 있는 다양한 알고리즘 고려\n",
    "  - ex) DNN, CNN, Lidge, Lasso, ElasticNet, Decision Tree, Random Forest, SVM, Gradient Boosting Tree, XGBoost, LightGBM, AdaBoost..."
   ]
  },
  {
   "cell_type": "markdown",
   "metadata": {},
   "source": [
    "![figure](./figure/figure06.png)"
   ]
  }
 ],
 "metadata": {
  "kernelspec": {
   "display_name": "Python 3",
   "language": "python",
   "name": "python3"
  },
  "language_info": {
   "codemirror_mode": {
    "name": "ipython",
    "version": 3
   },
   "file_extension": ".py",
   "mimetype": "text/x-python",
   "name": "python",
   "nbconvert_exporter": "python",
   "pygments_lexer": "ipython3",
   "version": "3.6.9"
  }
 },
 "nbformat": 4,
 "nbformat_minor": 2
}
