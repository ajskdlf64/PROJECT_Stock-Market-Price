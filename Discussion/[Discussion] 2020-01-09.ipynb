{
 "cells": [
  {
   "cell_type": "markdown",
   "metadata": {},
   "source": [
    "# [Day 02] 2020-01-07"
   ]
  },
  {
   "cell_type": "markdown",
   "metadata": {},
   "source": [
    "## 현재 진행사항"
   ]
  },
  {
   "cell_type": "markdown",
   "metadata": {},
   "source": [
    " - 수민님 모델 close만 사옹한 lstm, gru 모형에서 5일전의 ohlc를 사용한 모형으로 train 모형으로 전환 후 비교"
   ]
  },
  {
   "cell_type": "markdown",
   "metadata": {},
   "source": [
    "## Prophet"
   ]
  },
  {
   "cell_type": "markdown",
   "metadata": {},
   "source": [
    " - GPU 사용 불가\n",
    " - 변수 모델링 사용 불가\n",
    " - 더이상 발전시키기는 어렵지만, 시퀀스 데이터를 가볍게 돌려보고 평가 기준을 삼기에는 좋은 모형."
   ]
  },
  {
   "cell_type": "markdown",
   "metadata": {},
   "source": [
    "## 활성화 함수의 다양화"
   ]
  },
  {
   "cell_type": "markdown",
   "metadata": {},
   "source": [
    " - ReLU 이외의 다양한 활성화 함수, ex) tanh..."
   ]
  },
  {
   "cell_type": "markdown",
   "metadata": {},
   "source": [
    "## 현재 진행하고 있는 모델 수정"
   ]
  },
  {
   "cell_type": "markdown",
   "metadata": {},
   "source": [
    " - 시퀀스 데이터를 무시한 머신러닝 모델에서 가격대별 RMSE check!"
   ]
  }
 ],
 "metadata": {
  "kernelspec": {
   "display_name": "Python 3",
   "language": "python",
   "name": "python3"
  },
  "language_info": {
   "codemirror_mode": {
    "name": "ipython",
    "version": 3
   },
   "file_extension": ".py",
   "mimetype": "text/x-python",
   "name": "python",
   "nbconvert_exporter": "python",
   "pygments_lexer": "ipython3",
   "version": "3.6.9"
  }
 },
 "nbformat": 4,
 "nbformat_minor": 2
}
