{
 "cells": [
  {
   "cell_type": "markdown",
   "metadata": {},
   "source": [
    "# [Day 04] 2020-01-13"
   ]
  },
  {
   "cell_type": "markdown",
   "metadata": {},
   "source": [
    "### LSTM Model\n",
    " - Test 시각화 결과, 학습을 한다기 보다는 OHLC의 중간의 어느값을 예측하는 형태로 나오는 형태\n",
    " - 노멀라이즈를 다른 range로 변경\n",
    " - Fitting을 제대로 시키기 위한 다른 기술적 지표의 alpha 추가"
   ]
  },
  {
   "cell_type": "markdown",
   "metadata": {},
   "source": [
    "### Linear Regression Model\n",
    " - 2019년 8월 구간 check!!!\n",
    " - 현재 OHLC의 상관계수가 0.99로 매우 높아 가격의 경향성만 예측하는 것으로 보임.\n",
    " - 새로운 지표의 필요성"
   ]
  }
 ],
 "metadata": {
  "kernelspec": {
   "display_name": "Python 3",
   "language": "python",
   "name": "python3"
  },
  "language_info": {
   "codemirror_mode": {
    "name": "ipython",
    "version": 3
   },
   "file_extension": ".py",
   "mimetype": "text/x-python",
   "name": "python",
   "nbconvert_exporter": "python",
   "pygments_lexer": "ipython3",
   "version": "3.6.9"
  }
 },
 "nbformat": 4,
 "nbformat_minor": 2
}
