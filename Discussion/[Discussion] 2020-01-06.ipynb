{
 "cells": [
  {
   "cell_type": "markdown",
   "metadata": {},
   "source": [
    "# [Day 01] 2020-01-06"
   ]
  },
  {
   "cell_type": "markdown",
   "metadata": {},
   "source": [
    "## 개별 주식의 모형 vs 전체를 총괄하는 모형"
   ]
  },
  {
   "cell_type": "markdown",
   "metadata": {},
   "source": [
    " - 개별 모형을 주는 것이 성능은 더 좋다.\n",
    " <br><br>\n",
    " - 서브프라임 모기지론.... 10년치 데이터가 더 안좋다. -> 오히려 Outlier... -> 유의미한 결론 5년이내로!"
   ]
  },
  {
   "cell_type": "markdown",
   "metadata": {},
   "source": [
    "## **Facebook prophet**"
   ]
  },
  {
   "cell_type": "markdown",
   "metadata": {},
   "source": [
    " - 페이스북에서 개발한 시퀀스 모델 알고리즘\n",
    " <br><br>\n",
    " - 체크포인트를 나누어 각 구간별 선형 회귀 적합한 모델\n",
    " <br><br>\n",
    " - 장점 : 빠른 학습시간, 쉬운 사용법, 특정 이벤트 기간(슈퍼볼,선거일 등등) 설정 가능\n",
    " <br><br>\n",
    " - 단점 : 찾아낸 바로는 Input이 Date와 Close만 가능...?, 파라미터 조정이 어려움."
   ]
  },
  {
   "cell_type": "markdown",
   "metadata": {},
   "source": [
    "## **새로운 지표를 만드는 것이 가장 중요!!!**"
   ]
  },
  {
   "cell_type": "markdown",
   "metadata": {},
   "source": [
    " - RSI, MACD, 볼린저 밴드...!\n",
    " <br><br>\n",
    " - 전날의 open ,high, low, close를 Input으로 Linear Regression을 적용한 뒤, 그 Ouput을 LSTM의 Input으로 적용\n",
    "  <br><br>\n",
    " - 상관관계가 높은 Top10과 낮은 Bottom10의 종목을 가중치를 부여하고, Input으로 사용"
   ]
  },
  {
   "cell_type": "markdown",
   "metadata": {},
   "source": [
    "## **2000개의 종목을 하나의 모형으로**"
   ]
  },
  {
   "cell_type": "markdown",
   "metadata": {},
   "source": [
    " - 10%는 거래 정지 종목...\n",
    " <br><br>\n",
    " - 현실 반영"
   ]
  },
  {
   "cell_type": "markdown",
   "metadata": {},
   "source": [
    "##  **새로운 모델 방향**"
   ]
  },
  {
   "cell_type": "markdown",
   "metadata": {},
   "source": [
    " - prophet의 결과를 Input으로, 상한선과 하한선도 Input으로...!\n",
    " <br><br>\n",
    " - 각 회사들의 상관관계를 반영!!!"
   ]
  },
  {
   "cell_type": "markdown",
   "metadata": {},
   "source": [
    "## **최종방향**"
   ]
  },
  {
   "cell_type": "markdown",
   "metadata": {},
   "source": [
    " - 지금상황에서 불확실한 Input읋 추가하기 보다는 모델을 개선하는 방향으로 나아가기로함.\n",
    "<br><br>\n",
    " - 현재 LSTM 단일 모델에서 ARIMA, LSTM, GRU, PROPHET 등의 4가지 모형을 사용해서 각 모형을 비교 및 각모형의 결과값들을 평균을 한다는지 새로운 Stacking 모델을 구축.\n",
    "<br><br>\n",
    " - 목표는 5일 뒤 주가의 정확한 가격 예측\n",
    " <br><br>\n",
    " - **각자 역할**\n",
    "  - 박상희 : LSTM  \n",
    "  - 김민기 : PROPHET\n",
    "  - 우수민 : GRU\n",
    "  - 박장순 : ARIMA"
   ]
  }
 ],
 "metadata": {
  "kernelspec": {
   "display_name": "Python 3",
   "language": "python",
   "name": "python3"
  },
  "language_info": {
   "codemirror_mode": {
    "name": "ipython",
    "version": 3
   },
   "file_extension": ".py",
   "mimetype": "text/x-python",
   "name": "python",
   "nbconvert_exporter": "python",
   "pygments_lexer": "ipython3",
   "version": "3.6.9"
  }
 },
 "nbformat": 4,
 "nbformat_minor": 2
}
