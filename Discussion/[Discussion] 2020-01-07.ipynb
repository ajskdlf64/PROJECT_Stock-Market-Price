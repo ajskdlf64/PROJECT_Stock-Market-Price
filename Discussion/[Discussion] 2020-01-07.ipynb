{
 "cells": [
  {
   "cell_type": "markdown",
   "metadata": {},
   "source": [
    "# [Day 02] 2020-01-07"
   ]
  },
  {
   "cell_type": "markdown",
   "metadata": {},
   "source": [
    "## 다양한 모형 고려"
   ]
  },
  {
   "cell_type": "markdown",
   "metadata": {},
   "source": [
    "RNN, GRU, LSTM, ARIMA 등의 대표적인 시퀀스 모델뿐만 아니라, CNN, DNN, Machine Learning  기법들....."
   ]
  },
  {
   "cell_type": "markdown",
   "metadata": {},
   "source": [
    "## Model Stacking"
   ]
  },
  {
   "cell_type": "markdown",
   "metadata": {},
   "source": [
    "PROPHET은 GPU 사용이 가능..? / ARIMA 모형의 통계적, 수학적 이해"
   ]
  },
  {
   "cell_type": "markdown",
   "metadata": {},
   "source": [
    "## Validation Set 추가"
   ]
  },
  {
   "cell_type": "markdown",
   "metadata": {},
   "source": [
    "Train : Valid : Test = 8 : 1 : 1"
   ]
  },
  {
   "cell_type": "markdown",
   "metadata": {},
   "source": [
    "## 추가로 제공된 데이터의 활용방안"
   ]
  },
  {
   "cell_type": "markdown",
   "metadata": {},
   "source": [
    "각 종목별 거래구분, 시장종류 등에 대한 설명이 담겨있음. 전체 종목을 아우를 수 있는 모형의 구축이 필요함.\n",
    "$ y = ax + b$"
   ]
  },
  {
   "cell_type": "markdown",
   "metadata": {},
   "source": [
    "## 현재 모델 상황"
   ]
  },
  {
   "cell_type": "markdown",
   "metadata": {},
   "source": [
    "<SK 하이닉스>\n",
    " - 80000원대 주식 가격 형성\n",
    " \n",
    " - Model 1 : 2370.326409204249 / LSTM / shift 12 / 1층 / Close만 사용 / 1일 뒤 예측\n",
    " - Model 2 : 1107.1313420829965 / LSTM / shift 12 / 1층 / OHLC 사용 / 1일 뒤 예측\n",
    " - Model 3 : 1866.234512342344 / LSTM / shift 12 / 3층 / LSTM, DENSE 10 / OHLC 사용 / 5일 뒤 예측\n",
    " - Model 4 : 2179.641231646546 / LSTM / shift 12 / 3층 / LSTM, DENSE 100 / OHLC 사용 / 5일 뒤 예측\n",
    " - Model 5 : 진행중 / LSTM / shift 12 / 3층 / LSTM, DENSE 12 / OHLC 사용 / 5일 뒤 예측"
   ]
  }
 ],
 "metadata": {
  "kernelspec": {
   "display_name": "Python 3",
   "language": "python",
   "name": "python3"
  },
  "language_info": {
   "codemirror_mode": {
    "name": "ipython",
    "version": 3
   },
   "file_extension": ".py",
   "mimetype": "text/x-python",
   "name": "python",
   "nbconvert_exporter": "python",
   "pygments_lexer": "ipython3",
   "version": "3.6.9"
  }
 },
 "nbformat": 4,
 "nbformat_minor": 2
}
