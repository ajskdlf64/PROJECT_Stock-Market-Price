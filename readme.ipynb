{
 "cells": [
  {
   "cell_type": "markdown",
   "metadata": {},
   "source": [
    "# DNA INTERSHIP"
   ]
  },
  {
   "cell_type": "markdown",
   "metadata": {},
   "source": [
    "## 01. Export-Import Bank's Exchange Rate\n",
    "\n",
    "수출입은행의 OPEN API를 이용해 환율 데이터를 가져오고 시각화"
   ]
  },
  {
   "cell_type": "markdown",
   "metadata": {},
   "source": [
    "## 02. Stock Market Price Predict Model (Only Close, HYNIX)\n",
    "\n",
    "2017 ~ 2019년의 3년간의 SK 하이닉스의 주식 데이터(OHLC) 중 종가(close)만 사용하여 LSTM 시퀀스 모델 구축"
   ]
  },
  {
   "cell_type": "markdown",
   "metadata": {},
   "source": [
    "## 03. Stock Market Price Predict Model (with OHLC, HYNIX)\n",
    "\n",
    "2017 ~ 2019년의 3년간의 SK 하이닉스의 주식 데이터(OHLC)를 모두 사용하여 LSTM 시퀀스 모델 구축"
   ]
  },
  {
   "cell_type": "markdown",
   "metadata": {},
   "source": [
    "## 04. Stock Market Indicator\n",
    "\n",
    "주식 시장에 대해 기술적 분석을 위한 다양한 지표들"
   ]
  },
  {
   "cell_type": "markdown",
   "metadata": {},
   "source": [
    "## 05. Stock Market Price Predict Model (LSTM, CPU))\n",
    "\n",
    "예측 시점은 시장일 기준 5일 후, Stacking Model을 위해 LSTM 모델을 setting, CPU 환경에서 구동을 위해 단층 LSTM 설계"
   ]
  },
  {
   "cell_type": "markdown",
   "metadata": {},
   "source": [
    "## 06. Stock Market Price Predict Model (LSTM, GPU))"
   ]
  },
  {
   "cell_type": "markdown",
   "metadata": {},
   "source": [
    "예측 시점은 시장일 기준 5일 후, Stacking Model을 위해 LSTM 모델을 setting, GPU 환경에서 구동을 위해 3-Layer LSTM 설계"
   ]
  },
  {
   "cell_type": "markdown",
   "metadata": {},
   "source": [
    "## 07. New Dataset"
   ]
  },
  {
   "cell_type": "markdown",
   "metadata": {},
   "source": [
    "여러 종목에 대하여 모델 구축을 위한 dataframe 구축"
   ]
  }
 ],
 "metadata": {
  "kernelspec": {
   "display_name": "Python 3",
   "language": "python",
   "name": "python3"
  },
  "language_info": {
   "codemirror_mode": {
    "name": "ipython",
    "version": 3
   },
   "file_extension": ".py",
   "mimetype": "text/x-python",
   "name": "python",
   "nbconvert_exporter": "python",
   "pygments_lexer": "ipython3",
   "version": "3.6.9"
  }
 },
 "nbformat": 4,
 "nbformat_minor": 2
}
