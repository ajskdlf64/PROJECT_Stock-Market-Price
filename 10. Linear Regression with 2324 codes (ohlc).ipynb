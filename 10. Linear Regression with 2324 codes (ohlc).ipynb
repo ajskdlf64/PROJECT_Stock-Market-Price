{
 "cells": [
  {
   "cell_type": "code",
   "execution_count": 1,
   "metadata": {},
   "outputs": [
    {
     "name": "stdout",
     "output_type": "stream",
     "text": [
      "================================================================================\n",
      "====================== With OHLC (open, high, low ,close) ======================\n",
      "================================================================================\n",
      "\n"
     ]
    }
   ],
   "source": [
    "# With OHLC (open, high, low ,close)\n",
    "print(\"=\" * 80)\n",
    "print(\"{:=^80}\" .format(\" With OHLC (open, high, low ,close) \"))\n",
    "print(\"=\" * 80, end=\"\\n\\n\")"
   ]
  },
  {
   "cell_type": "code",
   "execution_count": 2,
   "metadata": {},
   "outputs": [],
   "source": [
    "# Seed\n",
    "from numpy.random import seed\n",
    "seed(1234)\n",
    "from tensorflow import set_random_seed\n",
    "set_random_seed(1234)"
   ]
  },
  {
   "cell_type": "code",
   "execution_count": 3,
   "metadata": {},
   "outputs": [],
   "source": [
    "# Warning Message\n",
    "import warnings\n",
    "warnings.filterwarnings(action='ignore') "
   ]
  },
  {
   "cell_type": "code",
   "execution_count": 4,
   "metadata": {},
   "outputs": [],
   "source": [
    "# Data Loading\n",
    "import pandas as pd\n",
    "data = pd.read_csv(\"./data/df_final.csv\")"
   ]
  },
  {
   "cell_type": "code",
   "execution_count": 5,
   "metadata": {},
   "outputs": [],
   "source": [
    "# 필요한 칼럼 추출\n",
    "data = data[[\"date\", \"open\", \"high\", \"low\", \"close\", \"code\"]]"
   ]
  },
  {
   "cell_type": "code",
   "execution_count": 6,
   "metadata": {},
   "outputs": [],
   "source": [
    "# Code 앞에 0 추가\n",
    "data[\"code\"] = data[\"code\"].apply(lambda x : \"{:0>6}\" .format(x))"
   ]
  },
  {
   "cell_type": "code",
   "execution_count": 7,
   "metadata": {},
   "outputs": [],
   "source": [
    "# Code type을 str로 변경\n",
    "data[\"code\"] = data[\"code\"].apply(lambda x : str(x))"
   ]
  },
  {
   "cell_type": "code",
   "execution_count": 8,
   "metadata": {},
   "outputs": [
    {
     "name": "stdout",
     "output_type": "stream",
     "text": [
      "================================================================================\n",
      "============================== 각 종목별 obs 개수 ==============================\n",
      "================================================================================\n",
      "000490    733\n",
      "096870    733\n",
      "104480    733\n",
      "138490    733\n",
      "039570    733\n",
      "         ... \n",
      "287320    494\n",
      "287330    494\n",
      "287310    494\n",
      "570024    494\n",
      "269620    493\n",
      "Name: code, Length: 2539, dtype: int64\n"
     ]
    }
   ],
   "source": [
    "# 각 종목별 obs 개수\n",
    "print(\"=\"*80)\n",
    "print(\"{:=^74}\" .format(\" 각 종목별 obs 개수 \"))\n",
    "print(\"=\"*80)\n",
    "print(data[\"code\"].value_counts())"
   ]
  },
  {
   "cell_type": "code",
   "execution_count": 9,
   "metadata": {},
   "outputs": [
    {
     "name": "stdout",
     "output_type": "stream",
     "text": [
      "================================================================================\n",
      "==================== 3년간 데이터가 완전한 종목 코드 733obs ====================\n",
      "================================================================================\n",
      "Index(['000490', '096870', '104480', '138490', '039570', '058730', '039200',\n",
      "       '200880', '033920', '002140',\n",
      "       ...\n",
      "       '215600', '025880', '071460', '101490', '087730', '520006', '071090',\n",
      "       '006405', '060310', '226350'],\n",
      "      dtype='object', length=2323)\n"
     ]
    }
   ],
   "source": [
    "# 3년간의 데이터가 완전한 종목 코드\n",
    "print(\"=\"*80)\n",
    "print(\"{:=^67}\" .format(\" 3년간 데이터가 완전한 종목 코드 733obs \"))\n",
    "print(\"=\"*80)\n",
    "FULL_DATA_CODE = data[\"code\"].value_counts().index[0:2323]\n",
    "print(FULL_DATA_CODE)"
   ]
  },
  {
   "cell_type": "code",
   "execution_count": 10,
   "metadata": {},
   "outputs": [
    {
     "name": "stdout",
     "output_type": "stream",
     "text": [
      "================================================================================\n",
      "================= 3년간의 데이터가 완전한 종목만 추출한 데이터 =================\n",
      "================================================================================\n",
      "               date   open   high    low  close    code\n",
      "0        2017-01-02  79905  81585  79170  79800  012320\n",
      "1        2017-01-03  80535  80535  79170  79800  012320\n",
      "2        2017-01-04  80535  80955  76965  77175  012320\n",
      "3        2017-01-05  77070  78855  75600  78225  012320\n",
      "4        2017-01-06  78225  79800  77280  77385  012320\n",
      "...             ...    ...    ...    ...    ...     ...\n",
      "1759974  2019-12-23  14050  15000  13950  14300  215600\n",
      "1759975  2019-12-24  14400  14400  13500  13650  215600\n",
      "1759976  2019-12-26  13700  14050  13500  13900  215600\n",
      "1759977  2019-12-27  13900  14300  13900  14050  215600\n",
      "1759978  2019-12-30  14250  14750  14150  14550  215600\n",
      "\n",
      "[1702759 rows x 6 columns]\n"
     ]
    }
   ],
   "source": [
    "# 3년간의 데이터가 완전한 종목만 추출한 데이터\n",
    "print(\"=\"*80)\n",
    "print(\"{:=^61}\" .format(\" 3년간의 데이터가 완전한 종목만 추출한 데이터 \"))\n",
    "print(\"=\"*80)\n",
    "data = data[data[\"code\"].isin(FULL_DATA_CODE)]\n",
    "print(data)"
   ]
  },
  {
   "cell_type": "code",
   "execution_count": 11,
   "metadata": {},
   "outputs": [
    {
     "name": "stdout",
     "output_type": "stream",
     "text": [
      "================================================================================\n",
      "================ SHIFT 생성 : 5일 전 종가로 5일 후 종가를 예측 =================\n",
      "================================================================================\n",
      "DATA Length : 1691144obs\n",
      "      close     open5     high5      low5    close5\n",
      "0  0.424699  0.419034  0.372414  0.455814  0.414157\n",
      "1  0.415663  0.413352  0.368276  0.452713  0.415663\n",
      "2  0.414157  0.413352  0.365517  0.444961  0.408133\n",
      "3  0.412651  0.403409  0.364138  0.448062  0.408133\n",
      "4  0.420181  0.401989  0.358621  0.441860  0.408133\n",
      "5  0.414157  0.407670  0.420690  0.454264  0.424699\n",
      "6  0.417169  0.423295  0.371034  0.449612  0.415663\n",
      "7  0.415663  0.413352  0.369655  0.452713  0.414157\n",
      "8  0.414157  0.417614  0.365517  0.451163  0.412651\n",
      "9  0.405120  0.416193  0.383448  0.455814  0.420181\n"
     ]
    }
   ],
   "source": [
    "# RESULT DATASET 생성\n",
    "FINAL_DATA = pd.DataFrame()\n",
    "\n",
    "# 각 종목 별 Shift 생성\n",
    "# 5일 전 종가로 5일 후 종가를 예측\n",
    "temp_data = data                                                                                      \n",
    "for i in FULL_DATA_CODE :                                                                      \n",
    "    data = data[data[\"code\"] == i]\n",
    "    for k in [\"open\", \"high\", \"low\", \"close\"] : \n",
    "        for s in range(1,6):                                                                             \n",
    "                data['{}{}'.format(k,s)] = data[k].shift(s)                                        \n",
    "    data = data.dropna().drop([\"open\", \"high\", \"low\", \"open1\", \"open2\", \"open3\", \"open4\",\\\n",
    "                                \"high1\", \"high2\", \"high3\", \"high4\",\\\n",
    "                                \"low1\", \"low2\", \"low3\", \"low4\",\\\n",
    "                                \"close1\", \"close2\", \"close3\", \"close4\",\"date\", \"code\"], axis=1)\n",
    "    from sklearn.preprocessing import MinMaxScaler\n",
    "    scaler = MinMaxScaler()\n",
    "    scaler.fit(data)\n",
    "    data = scaler.transform(data)\n",
    "    data = pd.DataFrame(data, columns = [\"close\", \"open5\", \"high5\", \"low5\", \"close5\"])\n",
    "    FINAL_DATA = FINAL_DATA.append(data)                                                             \n",
    "    data = temp_data                                                                               \n",
    "print(\"=\"*80)\n",
    "print(\"{:=^66}\" .format(\" SHIFT 생성 : 5일 전 종가로 5일 후 종가를 예측 \"))\n",
    "print(\"=\"*80)\n",
    "FINAL_DATA = FINAL_DATA[[\"close\", \"open5\", \"high5\", \"low5\", \"close5\"]]\n",
    "print(\"DATA Length : {}obs\" .format(len(FINAL_DATA)))\n",
    "print(FINAL_DATA[0:10])"
   ]
  },
  {
   "cell_type": "code",
   "execution_count": 12,
   "metadata": {},
   "outputs": [],
   "source": [
    "# Data 새로 만들기\n",
    "FINAL_DATA.to_csv(\"./data/ALLCODE_DATA.csv\")"
   ]
  },
  {
   "cell_type": "code",
   "execution_count": 13,
   "metadata": {},
   "outputs": [],
   "source": [
    "# 새로 만든 데이터 불러오기\n",
    "data = pd.read_csv(\"./data/ALLCODE_DATA.csv\")"
   ]
  },
  {
   "cell_type": "code",
   "execution_count": 14,
   "metadata": {},
   "outputs": [],
   "source": [
    "# Feature 추출\n",
    "data = data[[\"close\", \"open5\", \"high5\", \"low5\", \"close5\"]]\n"
   ]
  },
  {
   "cell_type": "code",
   "execution_count": 15,
   "metadata": {},
   "outputs": [],
   "source": [
    "# Train Test Split\n",
    "from sklearn.model_selection import train_test_split\n",
    "X_train, X_test, y_train, y_test = train_test_split(data[[\"open5\", \"high5\", \"low5\", \"close5\"]],\\\n",
    "                                                    data[[\"close\"]], test_size=0.10, random_state=42)"
   ]
  },
  {
   "cell_type": "code",
   "execution_count": 16,
   "metadata": {},
   "outputs": [],
   "source": [
    "# Model Fitting\n",
    "from sklearn.linear_model import LinearRegression\n",
    "reg = LinearRegression(n_jobs = -1).fit(X_train, y_train)"
   ]
  },
  {
   "cell_type": "code",
   "execution_count": 17,
   "metadata": {},
   "outputs": [
    {
     "name": "stdout",
     "output_type": "stream",
     "text": [
      "================================================================================\n",
      "============================== Linear Regression ===============================\n",
      "================================================================================\n",
      "Train Score : 0.9275649320317952\n",
      "Test Score : 0.9280862279204882\n"
     ]
    }
   ],
   "source": [
    "print(\"=\"*80)\n",
    "print(\"{:=^80}\" .format(\" Linear Regression \"))\n",
    "print(\"=\"*80)\n",
    "print(\"Train Score : {}\" .format(reg.score(X_train, y_train)))\n",
    "print(\"Test Score : {}\" .format(reg.score(X_test, y_test)))"
   ]
  },
  {
   "cell_type": "code",
   "execution_count": 18,
   "metadata": {},
   "outputs": [
    {
     "name": "stdout",
     "output_type": "stream",
     "text": [
      "Train RMSE : 0.06565223126141329\n",
      "Test RMSE : 0.06519422457786844\n"
     ]
    }
   ],
   "source": [
    "# RMSE\n",
    "import numpy as np\n",
    "from sklearn.metrics import mean_squared_error\n",
    "mse = mean_squared_error(y_train, reg.predict(X_train))\n",
    "rmse = mse ** 0.5\n",
    "print(\"Train RMSE : {}\" .format(rmse))\n",
    "mse = mean_squared_error(y_test, reg.predict(X_test))\n",
    "rmse = mse ** 0.5\n",
    "print(\"Test RMSE : {}\" .format(rmse))"
   ]
  },
  {
   "cell_type": "code",
   "execution_count": 19,
   "metadata": {},
   "outputs": [],
   "source": [
    "# Data Loading\n",
    "data = pd.read_csv(\"./data/df_final.csv\")"
   ]
  },
  {
   "cell_type": "code",
   "execution_count": 20,
   "metadata": {},
   "outputs": [],
   "source": [
    "# 필요한 칼럼 추출\n",
    "data = data[[\"date\", \"open\", \"high\", \"low\", \"close\", \"code\"]]"
   ]
  },
  {
   "cell_type": "code",
   "execution_count": 21,
   "metadata": {},
   "outputs": [],
   "source": [
    "# Code 앞에 0 추가\n",
    "data[\"code\"] = data[\"code\"].apply(lambda x : \"{:0>6}\" .format(x))\n"
   ]
  },
  {
   "cell_type": "code",
   "execution_count": 22,
   "metadata": {},
   "outputs": [],
   "source": [
    "# Code type을 str로 변경\n",
    "data[\"code\"] = data[\"code\"].apply(lambda x : str(x))\n"
   ]
  },
  {
   "cell_type": "code",
   "execution_count": 23,
   "metadata": {},
   "outputs": [
    {
     "name": "stdout",
     "output_type": "stream",
     "text": [
      "================================================================================\n",
      "================================= SK 하이닉스 ==================================\n",
      "================================================================================\n",
      "Data obs : 733\n",
      "              date   open   high    low  close    code\n",
      "833420  2017-01-02  44750  46000  44600  45800  000660\n",
      "833421  2017-01-03  46200  47300  46200  47250  000660\n",
      "833422  2017-01-04  47000  47150  46200  46500  000660\n",
      "833423  2017-01-05  47000  47500  46850  46950  000660\n",
      "833424  2017-01-06  47700  48450  47600  48000  000660\n",
      "833425  2017-01-09  48500  49750  48200  49550  000660\n",
      "833426  2017-01-10  49850  50200  49200  49750  000660\n",
      "833427  2017-01-11  50000  51900  50000  51600  000660\n",
      "833428  2017-01-12  51600  51600  50400  50600  000660\n",
      "833429  2017-01-13  49850  50700  49850  50300  000660\n"
     ]
    }
   ],
   "source": [
    "# 3년간의 데이터가 완전한 종목만 추출한 데이터\n",
    "print(\"=\"*80)\n",
    "print(\"{:=^76}\" .format(\" SK 하이닉스 \"))\n",
    "print(\"=\"*80)\n",
    "data = data[data[\"code\"] == \"000660\"]\n",
    "print(\"Data obs : {}\" .format(len(data)))\n",
    "print(data[0:10])"
   ]
  },
  {
   "cell_type": "code",
   "execution_count": 24,
   "metadata": {},
   "outputs": [
    {
     "name": "stdout",
     "output_type": "stream",
     "text": [
      "================================================================================\n",
      "============================ SK 하이닉스 SHIFT DATA ============================\n",
      "================================================================================\n",
      "DATA Length : 728obs\n",
      "   close     open5     high5   low5    close5\n",
      "0  0.071  0.000000  0.000000  0.000  0.000000\n",
      "1  0.075  0.028628  0.025145  0.032  0.029293\n",
      "2  0.112  0.044423  0.022244  0.032  0.014141\n",
      "3  0.092  0.044423  0.029014  0.045  0.023232\n",
      "4  0.086  0.058243  0.047389  0.060  0.044444\n",
      "5  0.066  0.074038  0.072534  0.072  0.075758\n",
      "6  0.066  0.100691  0.081238  0.092  0.079798\n",
      "7  0.057  0.103653  0.114120  0.108  0.117172\n",
      "8  0.072  0.135242  0.108317  0.116  0.096970\n",
      "9  0.063  0.100691  0.090909  0.105  0.090909\n"
     ]
    }
   ],
   "source": [
    "# 각 종목 별 Shift 생성\n",
    "# 5일 전 종가로 5일 후 종가를 예측\n",
    "FINAL_DATA = pd.DataFrame()\n",
    "for k in [\"open\", \"high\", \"low\", \"close\"] : \n",
    "    for s in range(1,6):                                                                             \n",
    "        data['{}{}'.format(k,s)] = data[k].shift(s)                                        \n",
    "data = data.dropna().drop([\"open\", \"high\", \"low\", \"open1\", \"open2\", \"open3\", \"open4\",\\\n",
    "                           \"high1\", \"high2\", \"high3\", \"high4\",\\\n",
    "                           \"low1\", \"low2\", \"low3\", \"low4\",\\\n",
    "                           \"close1\", \"close2\", \"close3\", \"close4\", \"date\", \"code\"], axis=1)\n",
    "from sklearn.preprocessing import MinMaxScaler\n",
    "scaler = MinMaxScaler()\n",
    "scaler.fit(data)\n",
    "data = scaler.transform(data)\n",
    "data = pd.DataFrame(data, columns = [\"close\", \"open5\", \"high5\", \"low5\", \"close5\"])\n",
    "FINAL_DATA = FINAL_DATA.append(data)                                                             \n",
    "print(\"=\"*80)\n",
    "print(\"{:=^76}\" .format(\" SK 하이닉스 SHIFT DATA \"))\n",
    "print(\"=\"*80)\n",
    "print(\"DATA Length : {}obs\" .format(len(data)))\n",
    "print(data[0:10])"
   ]
  },
  {
   "cell_type": "code",
   "execution_count": 25,
   "metadata": {},
   "outputs": [],
   "source": [
    "# 하이닉스 X, y\n",
    "X = FINAL_DATA[[\"open5\", \"high5\", \"low5\", \"close5\"]].values\n",
    "y = FINAL_DATA[[\"close\"]].values\n"
   ]
  },
  {
   "cell_type": "code",
   "execution_count": 26,
   "metadata": {},
   "outputs": [
    {
     "name": "stdout",
     "output_type": "stream",
     "text": [
      "================================================================================\n",
      "=============================== SK하이닉스 Score ===============================\n",
      "================================================================================\n",
      "Test Score : 0.9032759294336586\n"
     ]
    }
   ],
   "source": [
    "# Sk 하이닉스 Score\n",
    "print(\"=\"*80)\n",
    "print(\"{:=^76}\" .format(\" SK하이닉스 Score \"))\n",
    "print(\"=\"*80)\n",
    "print(\"Test Score : {}\" .format(reg.score(X, y)))"
   ]
  },
  {
   "cell_type": "code",
   "execution_count": 27,
   "metadata": {},
   "outputs": [
    {
     "name": "stdout",
     "output_type": "stream",
     "text": [
      "Test RMSE : 0.07064935296779343\n"
     ]
    }
   ],
   "source": [
    "# RMSE\n",
    "import numpy as np\n",
    "from sklearn.metrics import mean_squared_error\n",
    "mse = mean_squared_error(y, reg.predict(X))\n",
    "rmse = mse ** 0.5\n",
    "print(\"Test RMSE : {}\" .format(rmse))"
   ]
  },
  {
   "cell_type": "code",
   "execution_count": 39,
   "metadata": {},
   "outputs": [
    {
     "name": "stdout",
     "output_type": "stream",
     "text": [
      "==============================================================================\n",
      "=================================== DATA ===================================\n",
      "==============================================================================\n",
      "Data obs : 733\n",
      "              date   open   high    low  close    code\n",
      "754256  2017-01-02  18000  19100  18000  18600  032685\n",
      "754257  2017-01-03  18450  19300  18050  19200  032685\n",
      "754258  2017-01-04  19250  19600  19050  19400  032685\n",
      "754259  2017-01-05  19550  19600  19150  19500  032685\n",
      "754260  2017-01-06  19450  19600  18800  19150  032685\n",
      "754261  2017-01-09  19200  19250  18900  19150  032685\n",
      "754262  2017-01-10  19150  19150  18300  18500  032685\n",
      "754263  2017-01-11  18650  24050  18650  24050  032685\n",
      "754264  2017-01-12  27500  30800  22500  23050  032685\n",
      "754265  2017-01-13  23000  23300  20750  21700  032685\n",
      "\n",
      "\n",
      "\n",
      "==============================================================================\n",
      "================================ SHIFT DATA ================================\n",
      "==============================================================================\n",
      "DATA Length : 728obs\n",
      "      close     open5     high5      low5    close5\n",
      "0  0.011818  0.000000  0.000000  0.000000  0.001818\n",
      "1  0.000000  0.006164  0.002635  0.001131  0.012727\n",
      "2  0.100909  0.017123  0.006588  0.023756  0.016364\n",
      "3  0.082727  0.021233  0.006588  0.026018  0.018182\n",
      "4  0.058182  0.019863  0.006588  0.018100  0.011818\n",
      "5  0.049091  0.016438  0.001976  0.020362  0.011818\n",
      "6  0.052727  0.015753  0.000659  0.006787  0.000000\n",
      "7  0.081818  0.008904  0.065217  0.014706  0.100909\n",
      "8  0.070909  0.130137  0.154150  0.101810  0.082727\n",
      "9  0.040909  0.068493  0.055336  0.062217  0.058182\n",
      "\n",
      "\n",
      "\n",
      "==============================================================================\n",
      "================================ DATA Score ================================\n",
      "==============================================================================\n",
      "Test Score : 0.5314949722391815\n",
      "Test RMSE : 0.059603083413124903\n"
     ]
    }
   ],
   "source": [
    "# 경동인베스트 데이터 예측해보기\n",
    "\n",
    "# Data Loading\n",
    "data = pd.read_csv(\"./data/df_final.csv\")\n",
    "\n",
    "# 필요한 칼럼 추출\n",
    "data = data[[\"date\", \"open\", \"high\", \"low\", \"close\", \"code\"]]\n",
    "\n",
    "# Code 앞에 0 추가\n",
    "data[\"code\"] = data[\"code\"].apply(lambda x : \"{:0>6}\" .format(x))\n",
    "\n",
    "# Code type을 str로 변경\n",
    "data[\"code\"] = data[\"code\"].apply(lambda x : str(x))\n",
    "\n",
    "# 3년간의 데이터가 완전한 종목만 추출한 데이터\n",
    "print(\"=\"*78)\n",
    "print(\"{:=^76}\" .format(\" DATA \"))\n",
    "print(\"=\"*78)\n",
    "data = data[data[\"code\"] == \"032685\"]\n",
    "print(\"Data obs : {}\" .format(len(data)))\n",
    "print(data[0:10])\n",
    "\n",
    "print(\"\\n\\n\")\n",
    "\n",
    "# 각 종목 별 Shift 생성\n",
    "# 5일 전 종가로 5일 후 종가를 예측\n",
    "FINAL_DATA = pd.DataFrame()\n",
    "for k in [\"open\", \"high\", \"low\", \"close\"] : \n",
    "    for s in range(1,6):                                                                             \n",
    "        data['{}{}'.format(k,s)] = data[k].shift(s)                                        \n",
    "data = data.dropna().drop([\"open\", \"high\", \"low\", \"open1\", \"open2\", \"open3\", \"open4\",\\\n",
    "                           \"high1\", \"high2\", \"high3\", \"high4\",\\\n",
    "                           \"low1\", \"low2\", \"low3\", \"low4\",\\\n",
    "                           \"close1\", \"close2\", \"close3\", \"close4\", \"date\", \"code\"], axis=1)\n",
    "from sklearn.preprocessing import MinMaxScaler\n",
    "scaler = MinMaxScaler()\n",
    "scaler.fit(data)\n",
    "data = scaler.transform(data)\n",
    "data = pd.DataFrame(data, columns = [\"close\", \"open5\", \"high5\", \"low5\", \"close5\"])\n",
    "FINAL_DATA = FINAL_DATA.append(data)                                                             \n",
    "print(\"=\"*78)\n",
    "print(\"{:=^76}\" .format(\" SHIFT DATA \"))\n",
    "print(\"=\"*78)\n",
    "print(\"DATA Length : {}obs\" .format(len(data)))\n",
    "print(data[0:10])\n",
    "\n",
    "print(\"\\n\\n\")\n",
    "\n",
    "# 하이닉스 X, y\n",
    "X = FINAL_DATA[[\"open5\", \"high5\", \"low5\", \"close5\"]].values\n",
    "y = FINAL_DATA[[\"close\"]].values\n",
    "\n",
    "# Sk 하이닉스 Score\n",
    "print(\"=\"*78)\n",
    "print(\"{:=^76}\" .format(\" DATA Score \"))\n",
    "print(\"=\"*78)\n",
    "print(\"Test Score : {}\" .format(reg.score(X, y)))\n",
    "\n",
    "# RMSE\n",
    "import numpy as np\n",
    "from sklearn.metrics import mean_squared_error\n",
    "mse = mean_squared_error(y, reg.predict(X))\n",
    "rmse = mse ** 0.5\n",
    "print(\"Test RMSE : {}\" .format(rmse))"
   ]
  }
 ],
 "metadata": {
  "kernelspec": {
   "display_name": "Python 3",
   "language": "python",
   "name": "python3"
  },
  "language_info": {
   "codemirror_mode": {
    "name": "ipython",
    "version": 3
   },
   "file_extension": ".py",
   "mimetype": "text/x-python",
   "name": "python",
   "nbconvert_exporter": "python",
   "pygments_lexer": "ipython3",
   "version": "3.6.9"
  }
 },
 "nbformat": 4,
 "nbformat_minor": 2
}
